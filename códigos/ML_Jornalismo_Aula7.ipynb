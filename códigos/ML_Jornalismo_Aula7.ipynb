{
  "nbformat": 4,
  "nbformat_minor": 0,
  "metadata": {
    "colab": {
      "name": "ML_Jornalismo_Aula7.ipynb",
      "provenance": []
    },
    "kernelspec": {
      "name": "python3",
      "display_name": "Python 3"
    },
    "language_info": {
      "name": "python"
    }
  },
  "cells": [
    {
      "cell_type": "markdown",
      "metadata": {
        "id": "O4Db_-5LDtFb"
      },
      "source": [
        "Machine Learning para Jornalistas - Aula 7 - Segmentação"
      ]
    },
    {
      "cell_type": "code",
      "metadata": {
        "id": "wI-43aITDpa9"
      },
      "source": [
        "import pandas as pd\n",
        "import numpy as np\n",
        "import sklearn\n",
        "import seaborn as sns\n",
        "import matplotlib.pyplot as plt"
      ],
      "execution_count": null,
      "outputs": []
    },
    {
      "cell_type": "markdown",
      "metadata": {
        "id": "d8VEiF64DzN4"
      },
      "source": [
        "Importando os Dados - Votações na Câmara dos Deputados em 2021"
      ]
    },
    {
      "cell_type": "code",
      "metadata": {
        "id": "20SXzCnnD6jT"
      },
      "source": [
        "base_votos = pd.read_csv(\"votacoesVotos-2021.csv\",sep=';')"
      ],
      "execution_count": null,
      "outputs": []
    },
    {
      "cell_type": "markdown",
      "metadata": {
        "id": "w1rShRhoEHnT"
      },
      "source": [
        "Explorando a base de dados"
      ]
    },
    {
      "cell_type": "code",
      "metadata": {
        "colab": {
          "base_uri": "https://localhost:8080/"
        },
        "id": "1ebbiVE-EKtI",
        "outputId": "2de26712-1eb2-4d3f-aaa1-33918b0af0a2"
      },
      "source": [
        "base_votos.columns"
      ],
      "execution_count": null,
      "outputs": [
        {
          "output_type": "execute_result",
          "data": {
            "text/plain": [
              "Index(['idVotacao', 'uriVotacao', 'dataHoraVoto', 'voto', 'deputado_id',\n",
              "       'deputado_uri', 'deputado_nome', 'deputado_siglaPartido',\n",
              "       'deputado_uriPartido', 'deputado_siglaUf', 'deputado_idLegislatura',\n",
              "       'deputado_urlFoto'],\n",
              "      dtype='object')"
            ]
          },
          "metadata": {},
          "execution_count": 106
        }
      ]
    },
    {
      "cell_type": "code",
      "metadata": {
        "colab": {
          "base_uri": "https://localhost:8080/"
        },
        "id": "dTJ7XKyXEMHf",
        "outputId": "4b2e3526-2c29-49be-f3f0-afee8dc6b771"
      },
      "source": [
        "base_votos.info()"
      ],
      "execution_count": null,
      "outputs": [
        {
          "output_type": "stream",
          "name": "stdout",
          "text": [
            "<class 'pandas.core.frame.DataFrame'>\n",
            "RangeIndex: 287671 entries, 0 to 287670\n",
            "Data columns (total 12 columns):\n",
            " #   Column                  Non-Null Count   Dtype \n",
            "---  ------                  --------------   ----- \n",
            " 0   idVotacao               287671 non-null  object\n",
            " 1   uriVotacao              287671 non-null  object\n",
            " 2   dataHoraVoto            287671 non-null  object\n",
            " 3   voto                    287671 non-null  object\n",
            " 4   deputado_id             287671 non-null  int64 \n",
            " 5   deputado_uri            287671 non-null  object\n",
            " 6   deputado_nome           287671 non-null  object\n",
            " 7   deputado_siglaPartido   287671 non-null  object\n",
            " 8   deputado_uriPartido     287671 non-null  object\n",
            " 9   deputado_siglaUf        287671 non-null  object\n",
            " 10  deputado_idLegislatura  287671 non-null  int64 \n",
            " 11  deputado_urlFoto        287671 non-null  object\n",
            "dtypes: int64(2), object(10)\n",
            "memory usage: 26.3+ MB\n"
          ]
        }
      ]
    },
    {
      "cell_type": "code",
      "metadata": {
        "colab": {
          "base_uri": "https://localhost:8080/",
          "height": 313
        },
        "id": "W5ZyxsHZERFM",
        "outputId": "8bdbdc2d-f480-4e71-b7f6-535e137d9fa6"
      },
      "source": [
        "base_votos.head()"
      ],
      "execution_count": null,
      "outputs": [
        {
          "output_type": "execute_result",
          "data": {
            "text/html": [
              "<div>\n",
              "<style scoped>\n",
              "    .dataframe tbody tr th:only-of-type {\n",
              "        vertical-align: middle;\n",
              "    }\n",
              "\n",
              "    .dataframe tbody tr th {\n",
              "        vertical-align: top;\n",
              "    }\n",
              "\n",
              "    .dataframe thead th {\n",
              "        text-align: right;\n",
              "    }\n",
              "</style>\n",
              "<table border=\"1\" class=\"dataframe\">\n",
              "  <thead>\n",
              "    <tr style=\"text-align: right;\">\n",
              "      <th></th>\n",
              "      <th>idVotacao</th>\n",
              "      <th>uriVotacao</th>\n",
              "      <th>dataHoraVoto</th>\n",
              "      <th>voto</th>\n",
              "      <th>deputado_id</th>\n",
              "      <th>deputado_uri</th>\n",
              "      <th>deputado_nome</th>\n",
              "      <th>deputado_siglaPartido</th>\n",
              "      <th>deputado_uriPartido</th>\n",
              "      <th>deputado_siglaUf</th>\n",
              "      <th>deputado_idLegislatura</th>\n",
              "      <th>deputado_urlFoto</th>\n",
              "    </tr>\n",
              "  </thead>\n",
              "  <tbody>\n",
              "    <tr>\n",
              "      <th>0</th>\n",
              "      <td>14666-138</td>\n",
              "      <td>https://dadosabertos.camara.leg.br/api/v2/vota...</td>\n",
              "      <td>2021-08-04T11:39:19</td>\n",
              "      <td>Sim</td>\n",
              "      <td>204545</td>\n",
              "      <td>https://dadosabertos.camara.leg.br/api/v2/depu...</td>\n",
              "      <td>Alê Silva</td>\n",
              "      <td>PSL</td>\n",
              "      <td>https://dadosabertos.camara.leg.br/api/v2/part...</td>\n",
              "      <td>MG</td>\n",
              "      <td>56</td>\n",
              "      <td>http://www.camara.gov.br/internet/deputado/ban...</td>\n",
              "    </tr>\n",
              "    <tr>\n",
              "      <th>1</th>\n",
              "      <td>14666-138</td>\n",
              "      <td>https://dadosabertos.camara.leg.br/api/v2/vota...</td>\n",
              "      <td>2021-08-04T11:39:19</td>\n",
              "      <td>Sim</td>\n",
              "      <td>73696</td>\n",
              "      <td>https://dadosabertos.camara.leg.br/api/v2/depu...</td>\n",
              "      <td>Angela Amin</td>\n",
              "      <td>PP</td>\n",
              "      <td>https://dadosabertos.camara.leg.br/api/v2/part...</td>\n",
              "      <td>SC</td>\n",
              "      <td>56</td>\n",
              "      <td>http://www.camara.gov.br/internet/deputado/ban...</td>\n",
              "    </tr>\n",
              "    <tr>\n",
              "      <th>2</th>\n",
              "      <td>14666-138</td>\n",
              "      <td>https://dadosabertos.camara.leg.br/api/v2/vota...</td>\n",
              "      <td>2021-08-04T11:39:19</td>\n",
              "      <td>Sim</td>\n",
              "      <td>160512</td>\n",
              "      <td>https://dadosabertos.camara.leg.br/api/v2/depu...</td>\n",
              "      <td>Aureo Ribeiro</td>\n",
              "      <td>SOLIDARIEDADE</td>\n",
              "      <td>https://dadosabertos.camara.leg.br/api/v2/part...</td>\n",
              "      <td>RJ</td>\n",
              "      <td>56</td>\n",
              "      <td>http://www.camara.gov.br/internet/deputado/ban...</td>\n",
              "    </tr>\n",
              "    <tr>\n",
              "      <th>3</th>\n",
              "      <td>14666-138</td>\n",
              "      <td>https://dadosabertos.camara.leg.br/api/v2/vota...</td>\n",
              "      <td>2021-08-04T11:39:19</td>\n",
              "      <td>Sim</td>\n",
              "      <td>204374</td>\n",
              "      <td>https://dadosabertos.camara.leg.br/api/v2/depu...</td>\n",
              "      <td>Bia Kicis</td>\n",
              "      <td>PSL</td>\n",
              "      <td>https://dadosabertos.camara.leg.br/api/v2/part...</td>\n",
              "      <td>DF</td>\n",
              "      <td>56</td>\n",
              "      <td>http://www.camara.gov.br/internet/deputado/ban...</td>\n",
              "    </tr>\n",
              "    <tr>\n",
              "      <th>4</th>\n",
              "      <td>14666-138</td>\n",
              "      <td>https://dadosabertos.camara.leg.br/api/v2/vota...</td>\n",
              "      <td>2021-08-04T11:39:19</td>\n",
              "      <td>Sim</td>\n",
              "      <td>141513</td>\n",
              "      <td>https://dadosabertos.camara.leg.br/api/v2/depu...</td>\n",
              "      <td>Bilac Pinto</td>\n",
              "      <td>DEM</td>\n",
              "      <td>https://dadosabertos.camara.leg.br/api/v2/part...</td>\n",
              "      <td>MG</td>\n",
              "      <td>56</td>\n",
              "      <td>http://www.camara.gov.br/internet/deputado/ban...</td>\n",
              "    </tr>\n",
              "  </tbody>\n",
              "</table>\n",
              "</div>"
            ],
            "text/plain": [
              "   idVotacao  ...                                   deputado_urlFoto\n",
              "0  14666-138  ...  http://www.camara.gov.br/internet/deputado/ban...\n",
              "1  14666-138  ...  http://www.camara.gov.br/internet/deputado/ban...\n",
              "2  14666-138  ...  http://www.camara.gov.br/internet/deputado/ban...\n",
              "3  14666-138  ...  http://www.camara.gov.br/internet/deputado/ban...\n",
              "4  14666-138  ...  http://www.camara.gov.br/internet/deputado/ban...\n",
              "\n",
              "[5 rows x 12 columns]"
            ]
          },
          "metadata": {},
          "execution_count": 108
        }
      ]
    },
    {
      "cell_type": "code",
      "metadata": {
        "colab": {
          "base_uri": "https://localhost:8080/"
        },
        "id": "RoZwo2xiETD0",
        "outputId": "e24e0d1a-56fb-4808-d429-1fae9d73cfa3"
      },
      "source": [
        "base_votos.isnull().sum()"
      ],
      "execution_count": null,
      "outputs": [
        {
          "output_type": "execute_result",
          "data": {
            "text/plain": [
              "idVotacao                 0\n",
              "uriVotacao                0\n",
              "dataHoraVoto              0\n",
              "voto                      0\n",
              "deputado_id               0\n",
              "deputado_uri              0\n",
              "deputado_nome             0\n",
              "deputado_siglaPartido     0\n",
              "deputado_uriPartido       0\n",
              "deputado_siglaUf          0\n",
              "deputado_idLegislatura    0\n",
              "deputado_urlFoto          0\n",
              "dtype: int64"
            ]
          },
          "metadata": {},
          "execution_count": 109
        }
      ]
    },
    {
      "cell_type": "code",
      "metadata": {
        "colab": {
          "base_uri": "https://localhost:8080/"
        },
        "id": "jiqJ_FFJEYzg",
        "outputId": "91b4b9bd-4257-4693-ef23-79b697e00f57"
      },
      "source": [
        "base_votos['deputado_id'].nunique()"
      ],
      "execution_count": null,
      "outputs": [
        {
          "output_type": "execute_result",
          "data": {
            "text/plain": [
              "541"
            ]
          },
          "metadata": {},
          "execution_count": 110
        }
      ]
    },
    {
      "cell_type": "code",
      "metadata": {
        "colab": {
          "base_uri": "https://localhost:8080/"
        },
        "id": "GFuAm3QFEZqV",
        "outputId": "0ac4917f-c2f0-46c7-ab99-1414b6c50e59"
      },
      "source": [
        "base_votos['idVotacao'].nunique()"
      ],
      "execution_count": null,
      "outputs": [
        {
          "output_type": "execute_result",
          "data": {
            "text/plain": [
              "824"
            ]
          },
          "metadata": {},
          "execution_count": 111
        }
      ]
    },
    {
      "cell_type": "code",
      "metadata": {
        "colab": {
          "base_uri": "https://localhost:8080/"
        },
        "id": "v3jdmy3SEcCz",
        "outputId": "884b8c0b-8744-43f4-e78a-60c1a91bc926"
      },
      "source": [
        "print(base_votos.voto.value_counts())"
      ],
      "execution_count": null,
      "outputs": [
        {
          "output_type": "stream",
          "name": "stdout",
          "text": [
            "Sim          154049\n",
            "Não          129597\n",
            "Obstrução      2741\n",
            "Abstenção       658\n",
            "Artigo 17       626\n",
            "Name: voto, dtype: int64\n"
          ]
        }
      ]
    },
    {
      "cell_type": "code",
      "metadata": {
        "id": "MVGc5grTEcfN"
      },
      "source": [
        "propostas_count = base_votos.idVotacao.value_counts()"
      ],
      "execution_count": null,
      "outputs": []
    },
    {
      "cell_type": "code",
      "metadata": {
        "colab": {
          "base_uri": "https://localhost:8080/"
        },
        "id": "yPQK3dwCEePV",
        "outputId": "93e832df-de61-42b4-85cd-35d3424c2cc9"
      },
      "source": [
        "propostas_count.head()"
      ],
      "execution_count": null,
      "outputs": [
        {
          "output_type": "execute_result",
          "data": {
            "text/plain": [
              "2272137-133    503\n",
              "2270433-32     497\n",
              "2272137-147    497\n",
              "2272137-224    496\n",
              "2272137-156    496\n",
              "Name: idVotacao, dtype: int64"
            ]
          },
          "metadata": {},
          "execution_count": 114
        }
      ]
    },
    {
      "cell_type": "markdown",
      "metadata": {
        "id": "s8z3kGrhE28G"
      },
      "source": [
        "Preparando Base de Dados para o K-Means"
      ]
    },
    {
      "cell_type": "markdown",
      "metadata": {
        "id": "Gs3k8qtUOxtw"
      },
      "source": [
        "Dropando informações que não vamos usar"
      ]
    },
    {
      "cell_type": "code",
      "metadata": {
        "id": "ZNs-3SXbE52Z"
      },
      "source": [
        "x = base_votos.drop(['uriVotacao','dataHoraVoto','uriVotacao','deputado_uri'\n",
        "                   ,'deputado_uriPartido','deputado_siglaUf'\n",
        "                   ,'deputado_idLegislatura','deputado_urlFoto'],axis=1)"
      ],
      "execution_count": null,
      "outputs": []
    },
    {
      "cell_type": "markdown",
      "metadata": {
        "id": "kP2gx4mEO0Gs"
      },
      "source": [
        "Transformando votos em 0 (Não) e 1 (Sim)"
      ]
    },
    {
      "cell_type": "code",
      "metadata": {
        "colab": {
          "base_uri": "https://localhost:8080/"
        },
        "id": "AWRpoFm2E8bw",
        "outputId": "9734afbe-1503-4407-d29c-9c69ae11fd0d"
      },
      "source": [
        "x = x.drop(x[(x.voto == 'Obstrução') | (x.voto == 'Abstenção') | (x.voto == 'Artigo 17')].index)\n",
        "print(x.voto.value_counts())\n",
        "\n",
        "x.replace({'voto':{'Sim':1,'Não':0}},inplace=True)\n",
        "\n",
        "x = x.pivot_table('voto', ['deputado_id','deputado_nome','deputado_siglaPartido'], 'idVotacao')\n"
      ],
      "execution_count": null,
      "outputs": [
        {
          "output_type": "stream",
          "name": "stdout",
          "text": [
            "Sim    154049\n",
            "Não    129597\n",
            "Name: voto, dtype: int64\n"
          ]
        }
      ]
    },
    {
      "cell_type": "code",
      "metadata": {
        "colab": {
          "base_uri": "https://localhost:8080/"
        },
        "id": "HVV8Arp6E_oH",
        "outputId": "eb967353-1ffa-4b5b-85e3-b2e37e47cfaf"
      },
      "source": [
        "x.columns"
      ],
      "execution_count": null,
      "outputs": [
        {
          "output_type": "execute_result",
          "data": {
            "text/plain": [
              "Index(['idVotacao', 'voto', 'deputado_id', 'deputado_nome',\n",
              "       'deputado_siglaPartido'],\n",
              "      dtype='object')"
            ]
          },
          "metadata": {},
          "execution_count": 116
        }
      ]
    },
    {
      "cell_type": "code",
      "metadata": {
        "colab": {
          "base_uri": "https://localhost:8080/",
          "height": 206
        },
        "id": "-TqZr16_Ha3G",
        "outputId": "ac7782e9-05f3-4730-945d-08b84cf084bf"
      },
      "source": [
        "x.head()"
      ],
      "execution_count": null,
      "outputs": [
        {
          "output_type": "execute_result",
          "data": {
            "text/html": [
              "<div>\n",
              "<style scoped>\n",
              "    .dataframe tbody tr th:only-of-type {\n",
              "        vertical-align: middle;\n",
              "    }\n",
              "\n",
              "    .dataframe tbody tr th {\n",
              "        vertical-align: top;\n",
              "    }\n",
              "\n",
              "    .dataframe thead th {\n",
              "        text-align: right;\n",
              "    }\n",
              "</style>\n",
              "<table border=\"1\" class=\"dataframe\">\n",
              "  <thead>\n",
              "    <tr style=\"text-align: right;\">\n",
              "      <th></th>\n",
              "      <th>idVotacao</th>\n",
              "      <th>voto</th>\n",
              "      <th>deputado_id</th>\n",
              "      <th>deputado_nome</th>\n",
              "      <th>deputado_siglaPartido</th>\n",
              "    </tr>\n",
              "  </thead>\n",
              "  <tbody>\n",
              "    <tr>\n",
              "      <th>0</th>\n",
              "      <td>14666-138</td>\n",
              "      <td>Sim</td>\n",
              "      <td>204545</td>\n",
              "      <td>Alê Silva</td>\n",
              "      <td>PSL</td>\n",
              "    </tr>\n",
              "    <tr>\n",
              "      <th>1</th>\n",
              "      <td>14666-138</td>\n",
              "      <td>Sim</td>\n",
              "      <td>73696</td>\n",
              "      <td>Angela Amin</td>\n",
              "      <td>PP</td>\n",
              "    </tr>\n",
              "    <tr>\n",
              "      <th>2</th>\n",
              "      <td>14666-138</td>\n",
              "      <td>Sim</td>\n",
              "      <td>160512</td>\n",
              "      <td>Aureo Ribeiro</td>\n",
              "      <td>SOLIDARIEDADE</td>\n",
              "    </tr>\n",
              "    <tr>\n",
              "      <th>3</th>\n",
              "      <td>14666-138</td>\n",
              "      <td>Sim</td>\n",
              "      <td>204374</td>\n",
              "      <td>Bia Kicis</td>\n",
              "      <td>PSL</td>\n",
              "    </tr>\n",
              "    <tr>\n",
              "      <th>4</th>\n",
              "      <td>14666-138</td>\n",
              "      <td>Sim</td>\n",
              "      <td>141513</td>\n",
              "      <td>Bilac Pinto</td>\n",
              "      <td>DEM</td>\n",
              "    </tr>\n",
              "  </tbody>\n",
              "</table>\n",
              "</div>"
            ],
            "text/plain": [
              "   idVotacao voto  deputado_id  deputado_nome deputado_siglaPartido\n",
              "0  14666-138  Sim       204545      Alê Silva                   PSL\n",
              "1  14666-138  Sim        73696    Angela Amin                    PP\n",
              "2  14666-138  Sim       160512  Aureo Ribeiro         SOLIDARIEDADE\n",
              "3  14666-138  Sim       204374      Bia Kicis                   PSL\n",
              "4  14666-138  Sim       141513    Bilac Pinto                   DEM"
            ]
          },
          "metadata": {},
          "execution_count": 117
        }
      ]
    },
    {
      "cell_type": "markdown",
      "metadata": {
        "id": "56ym13e1FTvQ"
      },
      "source": [
        "Para selecionar as votacoes que vamos usar na clusterização vamos usar um critério de número de votos. Conseguimos clusterizar apenas os deputados que votaram em todas as votações selecionadas, logo se selecionamos votações com baixo quorum, conseguimos clusterizar poucos deputados.\n",
        "Este critério foi utilizado para este exemplo mas você pode escolher qualquer conjunto de votações que deseja analisar."
      ]
    },
    {
      "cell_type": "code",
      "metadata": {
        "id": "iVw6sOyIFC_L"
      },
      "source": [
        "propostas_selecionadas = propostas_count[propostas_count > 495]"
      ],
      "execution_count": null,
      "outputs": []
    },
    {
      "cell_type": "code",
      "metadata": {
        "id": "FpyT0vsNFDbV"
      },
      "source": [
        "propostas_selecionadas = list(propostas_selecionadas.index)"
      ],
      "execution_count": null,
      "outputs": []
    },
    {
      "cell_type": "code",
      "metadata": {
        "colab": {
          "base_uri": "https://localhost:8080/"
        },
        "id": "b-ibX51hFFIl",
        "outputId": "6fe4f5f6-62b2-4ae4-c111-796753e51491"
      },
      "source": [
        "print(propostas_selecionadas)"
      ],
      "execution_count": null,
      "outputs": [
        {
          "output_type": "stream",
          "name": "stdout",
          "text": [
            "['2272137-133', '2270433-32', '2272137-147', '2272137-224', '2272137-156', '2293449-241']\n"
          ]
        }
      ]
    },
    {
      "cell_type": "code",
      "metadata": {
        "id": "oniQOCAnFIYu"
      },
      "source": [
        "base_votacao = pd.read_csv(\"votacoesObjetos-2021.csv\",sep=';')"
      ],
      "execution_count": null,
      "outputs": []
    },
    {
      "cell_type": "code",
      "metadata": {
        "id": "B2XIsFdqFNnG"
      },
      "source": [
        "base_votacao_selecionadas = base_votacao[base_votacao['idVotacao'].isin(propostas_selecionadas)]\n"
      ],
      "execution_count": null,
      "outputs": []
    },
    {
      "cell_type": "code",
      "metadata": {
        "id": "HcuTpLMbFPoS"
      },
      "source": [
        "base_votacao_selecionadas.head()"
      ],
      "execution_count": null,
      "outputs": []
    },
    {
      "cell_type": "code",
      "metadata": {
        "colab": {
          "base_uri": "https://localhost:8080/"
        },
        "id": "_4qA_XuMJABz",
        "outputId": "90e06e08-cf16-47ec-fa04-699816f8d0bd"
      },
      "source": [
        "print(base_votacao_selecionadas['proposicao_ementa'].values[2])"
      ],
      "execution_count": null,
      "outputs": [
        {
          "output_type": "stream",
          "name": "stdout",
          "text": [
            "Altera os arts. 29-A, 37, 49, 84, 163, 165, 167, 168 e 169 da Constituição Federal e os arts. 101 e 109 do Ato das Disposições Constitucionais Transitórias; acrescenta à Constituição Federal os arts. 164-A, 167-A, 167-B, 167-C, 167-D, 167-E, 167-F e 167-G; revoga dispositivos do Ato das Disposições Constitucionais Transitórias e institui regras transitórias sobre redução de benefícios tributários; desvincula parcialmente o superávit financeiro de fundos públicos; e suspende condicionalidades para realização de despesas com concessão de auxílio emergencial residual para enfrentar as consequências sociais e econômicas da pandemia de Covid-19.\n"
          ]
        }
      ]
    },
    {
      "cell_type": "markdown",
      "metadata": {
        "id": "I83QEs05gK_g"
      },
      "source": [
        "Abrir o arquivo csv ou excel com as votações pode ser mais fácil para olhar a pauta de cada uma"
      ]
    },
    {
      "cell_type": "markdown",
      "metadata": {
        "id": "j5-tmjOWFsEm"
      },
      "source": [
        "Criando base final para a segmentação - Aqui você pode selecionar as votacoes que preferir para a clusterização, basta criar uma nova lista com outras votacoes de interesse."
      ]
    },
    {
      "cell_type": "code",
      "metadata": {
        "id": "9JdB_8inF12u"
      },
      "source": [
        "x1 = x[propostas_selecionadas]"
      ],
      "execution_count": null,
      "outputs": []
    },
    {
      "cell_type": "code",
      "metadata": {
        "colab": {
          "base_uri": "https://localhost:8080/"
        },
        "id": "dkFR7oySF_QE",
        "outputId": "a2b81fcc-1dc5-4235-ed6b-bf5742422f57"
      },
      "source": [
        "x1.info()"
      ],
      "execution_count": null,
      "outputs": [
        {
          "output_type": "stream",
          "name": "stdout",
          "text": [
            "<class 'pandas.core.frame.DataFrame'>\n",
            "MultiIndex: 553 entries, (62881, 'Danilo Forte', 'PSDB') to (218086, 'Ely Santos', 'REPUBLICANOS')\n",
            "Data columns (total 6 columns):\n",
            " #   Column       Non-Null Count  Dtype  \n",
            "---  ------       --------------  -----  \n",
            " 0   2272137-133  500 non-null    float64\n",
            " 1   2270433-32   494 non-null    float64\n",
            " 2   2272137-147  496 non-null    float64\n",
            " 3   2272137-224  493 non-null    float64\n",
            " 4   2272137-156  495 non-null    float64\n",
            " 5   2293449-241  495 non-null    float64\n",
            "dtypes: float64(6)\n",
            "memory usage: 37.5+ KB\n"
          ]
        }
      ]
    },
    {
      "cell_type": "code",
      "metadata": {
        "id": "mh6pfh8VF30S"
      },
      "source": [
        "x1 = x1.dropna()"
      ],
      "execution_count": null,
      "outputs": []
    },
    {
      "cell_type": "code",
      "metadata": {
        "colab": {
          "base_uri": "https://localhost:8080/"
        },
        "id": "wkzQGYkpF7nU",
        "outputId": "f3411f23-c254-4450-8789-7fb3495f7c75"
      },
      "source": [
        "x1.info()"
      ],
      "execution_count": null,
      "outputs": [
        {
          "output_type": "stream",
          "name": "stdout",
          "text": [
            "<class 'pandas.core.frame.DataFrame'>\n",
            "MultiIndex: 423 entries, (62881, 'Danilo Forte', 'PSDB') to (215045, 'Pedro Augusto Palareti', 'PSD')\n",
            "Data columns (total 6 columns):\n",
            " #   Column       Non-Null Count  Dtype  \n",
            "---  ------       --------------  -----  \n",
            " 0   2272137-133  423 non-null    float64\n",
            " 1   2270433-32   423 non-null    float64\n",
            " 2   2272137-147  423 non-null    float64\n",
            " 3   2272137-224  423 non-null    float64\n",
            " 4   2272137-156  423 non-null    float64\n",
            " 5   2293449-241  423 non-null    float64\n",
            "dtypes: float64(6)\n",
            "memory usage: 30.8+ KB\n"
          ]
        }
      ]
    },
    {
      "cell_type": "code",
      "metadata": {
        "id": "lojSeF1tGAYF"
      },
      "source": [
        "from sklearn.cluster import KMeans"
      ],
      "execution_count": null,
      "outputs": []
    },
    {
      "cell_type": "code",
      "metadata": {
        "id": "fcaNknLOGDsA"
      },
      "source": [
        "kmeans = KMeans(init=\"random\", n_clusters=3, n_init=10,max_iter=300)"
      ],
      "execution_count": null,
      "outputs": []
    },
    {
      "cell_type": "code",
      "metadata": {
        "id": "Mx-ij2UeGFk1"
      },
      "source": [
        "labels = kmeans.fit(x1)\n",
        "prediction = kmeans.predict(x1)\n",
        "prediction = pd.DataFrame(prediction)"
      ],
      "execution_count": null,
      "outputs": []
    },
    {
      "cell_type": "code",
      "metadata": {
        "id": "2Z7SLPUHGH1d"
      },
      "source": [
        "x1 = x1.reset_index(level =['deputado_id','deputado_nome','deputado_siglaPartido'])\n",
        "x1['Cluster'] = prediction"
      ],
      "execution_count": null,
      "outputs": []
    },
    {
      "cell_type": "code",
      "metadata": {
        "colab": {
          "base_uri": "https://localhost:8080/",
          "height": 244
        },
        "id": "8KqOv0BdKYB-",
        "outputId": "df588d20-e461-4dbd-ed19-b69ae890dd20"
      },
      "source": [
        "x1.head()"
      ],
      "execution_count": null,
      "outputs": [
        {
          "output_type": "execute_result",
          "data": {
            "text/html": [
              "<div>\n",
              "<style scoped>\n",
              "    .dataframe tbody tr th:only-of-type {\n",
              "        vertical-align: middle;\n",
              "    }\n",
              "\n",
              "    .dataframe tbody tr th {\n",
              "        vertical-align: top;\n",
              "    }\n",
              "\n",
              "    .dataframe thead th {\n",
              "        text-align: right;\n",
              "    }\n",
              "</style>\n",
              "<table border=\"1\" class=\"dataframe\">\n",
              "  <thead>\n",
              "    <tr style=\"text-align: right;\">\n",
              "      <th>idVotacao</th>\n",
              "      <th>deputado_id</th>\n",
              "      <th>deputado_nome</th>\n",
              "      <th>deputado_siglaPartido</th>\n",
              "      <th>2272137-133</th>\n",
              "      <th>2270433-32</th>\n",
              "      <th>2272137-147</th>\n",
              "      <th>2272137-224</th>\n",
              "      <th>2272137-156</th>\n",
              "      <th>2293449-241</th>\n",
              "      <th>Cluster</th>\n",
              "    </tr>\n",
              "  </thead>\n",
              "  <tbody>\n",
              "    <tr>\n",
              "      <th>0</th>\n",
              "      <td>62881</td>\n",
              "      <td>Danilo Forte</td>\n",
              "      <td>PSDB</td>\n",
              "      <td>1.0</td>\n",
              "      <td>0.0</td>\n",
              "      <td>1.0</td>\n",
              "      <td>1.0</td>\n",
              "      <td>1.0</td>\n",
              "      <td>0.0</td>\n",
              "      <td>2</td>\n",
              "    </tr>\n",
              "    <tr>\n",
              "      <th>1</th>\n",
              "      <td>66179</td>\n",
              "      <td>Norma Ayub</td>\n",
              "      <td>DEM</td>\n",
              "      <td>0.0</td>\n",
              "      <td>0.0</td>\n",
              "      <td>1.0</td>\n",
              "      <td>1.0</td>\n",
              "      <td>1.0</td>\n",
              "      <td>1.0</td>\n",
              "      <td>2</td>\n",
              "    </tr>\n",
              "    <tr>\n",
              "      <th>2</th>\n",
              "      <td>66828</td>\n",
              "      <td>Fausto Pinato</td>\n",
              "      <td>PP</td>\n",
              "      <td>0.0</td>\n",
              "      <td>1.0</td>\n",
              "      <td>0.0</td>\n",
              "      <td>0.0</td>\n",
              "      <td>0.0</td>\n",
              "      <td>1.0</td>\n",
              "      <td>0</td>\n",
              "    </tr>\n",
              "    <tr>\n",
              "      <th>3</th>\n",
              "      <td>67138</td>\n",
              "      <td>Iracema Portella</td>\n",
              "      <td>PP</td>\n",
              "      <td>1.0</td>\n",
              "      <td>1.0</td>\n",
              "      <td>1.0</td>\n",
              "      <td>1.0</td>\n",
              "      <td>1.0</td>\n",
              "      <td>1.0</td>\n",
              "      <td>1</td>\n",
              "    </tr>\n",
              "    <tr>\n",
              "      <th>4</th>\n",
              "      <td>68720</td>\n",
              "      <td>Fábio Henrique</td>\n",
              "      <td>PDT</td>\n",
              "      <td>0.0</td>\n",
              "      <td>1.0</td>\n",
              "      <td>0.0</td>\n",
              "      <td>0.0</td>\n",
              "      <td>0.0</td>\n",
              "      <td>0.0</td>\n",
              "      <td>0</td>\n",
              "    </tr>\n",
              "  </tbody>\n",
              "</table>\n",
              "</div>"
            ],
            "text/plain": [
              "idVotacao  deputado_id     deputado_nome  ... 2293449-241  Cluster\n",
              "0                62881      Danilo Forte  ...         0.0        2\n",
              "1                66179        Norma Ayub  ...         1.0        2\n",
              "2                66828     Fausto Pinato  ...         1.0        0\n",
              "3                67138  Iracema Portella  ...         1.0        1\n",
              "4                68720    Fábio Henrique  ...         0.0        0\n",
              "\n",
              "[5 rows x 10 columns]"
            ]
          },
          "metadata": {},
          "execution_count": 141
        }
      ]
    },
    {
      "cell_type": "markdown",
      "metadata": {
        "id": "cu0cN73LGK2D"
      },
      "source": [
        "Proporção de partidos x classes"
      ]
    },
    {
      "cell_type": "code",
      "metadata": {
        "id": "tk3jUgtNGNH8"
      },
      "source": [
        "teste = x1.groupby(['deputado_siglaPartido','Cluster']).size().reset_index(name='counts')\n"
      ],
      "execution_count": null,
      "outputs": []
    },
    {
      "cell_type": "code",
      "metadata": {
        "colab": {
          "base_uri": "https://localhost:8080/",
          "height": 206
        },
        "id": "Nz4VtvFZHy17",
        "outputId": "da251c0e-5259-4d01-ec6b-30233010cf7f"
      },
      "source": [
        "teste.head()"
      ],
      "execution_count": null,
      "outputs": [
        {
          "output_type": "execute_result",
          "data": {
            "text/html": [
              "<div>\n",
              "<style scoped>\n",
              "    .dataframe tbody tr th:only-of-type {\n",
              "        vertical-align: middle;\n",
              "    }\n",
              "\n",
              "    .dataframe tbody tr th {\n",
              "        vertical-align: top;\n",
              "    }\n",
              "\n",
              "    .dataframe thead th {\n",
              "        text-align: right;\n",
              "    }\n",
              "</style>\n",
              "<table border=\"1\" class=\"dataframe\">\n",
              "  <thead>\n",
              "    <tr style=\"text-align: right;\">\n",
              "      <th></th>\n",
              "      <th>deputado_siglaPartido</th>\n",
              "      <th>Cluster</th>\n",
              "      <th>counts</th>\n",
              "    </tr>\n",
              "  </thead>\n",
              "  <tbody>\n",
              "    <tr>\n",
              "      <th>0</th>\n",
              "      <td>AVANTE</td>\n",
              "      <td>0</td>\n",
              "      <td>2</td>\n",
              "    </tr>\n",
              "    <tr>\n",
              "      <th>1</th>\n",
              "      <td>AVANTE</td>\n",
              "      <td>1</td>\n",
              "      <td>5</td>\n",
              "    </tr>\n",
              "    <tr>\n",
              "      <th>2</th>\n",
              "      <td>AVANTE</td>\n",
              "      <td>2</td>\n",
              "      <td>1</td>\n",
              "    </tr>\n",
              "    <tr>\n",
              "      <th>3</th>\n",
              "      <td>CIDADANIA</td>\n",
              "      <td>1</td>\n",
              "      <td>4</td>\n",
              "    </tr>\n",
              "    <tr>\n",
              "      <th>4</th>\n",
              "      <td>CIDADANIA</td>\n",
              "      <td>2</td>\n",
              "      <td>1</td>\n",
              "    </tr>\n",
              "  </tbody>\n",
              "</table>\n",
              "</div>"
            ],
            "text/plain": [
              "  deputado_siglaPartido  Cluster  counts\n",
              "0                AVANTE        0       2\n",
              "1                AVANTE        1       5\n",
              "2                AVANTE        2       1\n",
              "3             CIDADANIA        1       4\n",
              "4             CIDADANIA        2       1"
            ]
          },
          "metadata": {},
          "execution_count": 143
        }
      ]
    },
    {
      "cell_type": "code",
      "metadata": {
        "id": "UYQoXwszGO3F"
      },
      "source": [
        "teste1 = teste.pivot_table('counts', ['deputado_siglaPartido'], 'Cluster')\n"
      ],
      "execution_count": null,
      "outputs": []
    },
    {
      "cell_type": "code",
      "metadata": {
        "colab": {
          "base_uri": "https://localhost:8080/",
          "height": 238
        },
        "id": "VoB5Ab8lH0i2",
        "outputId": "37d658c3-9be8-40ab-964f-8c4f6e820784"
      },
      "source": [
        "teste1.head()"
      ],
      "execution_count": null,
      "outputs": [
        {
          "output_type": "execute_result",
          "data": {
            "text/html": [
              "<div>\n",
              "<style scoped>\n",
              "    .dataframe tbody tr th:only-of-type {\n",
              "        vertical-align: middle;\n",
              "    }\n",
              "\n",
              "    .dataframe tbody tr th {\n",
              "        vertical-align: top;\n",
              "    }\n",
              "\n",
              "    .dataframe thead th {\n",
              "        text-align: right;\n",
              "    }\n",
              "</style>\n",
              "<table border=\"1\" class=\"dataframe\">\n",
              "  <thead>\n",
              "    <tr style=\"text-align: right;\">\n",
              "      <th>Cluster</th>\n",
              "      <th>0</th>\n",
              "      <th>1</th>\n",
              "      <th>2</th>\n",
              "    </tr>\n",
              "    <tr>\n",
              "      <th>deputado_siglaPartido</th>\n",
              "      <th></th>\n",
              "      <th></th>\n",
              "      <th></th>\n",
              "    </tr>\n",
              "  </thead>\n",
              "  <tbody>\n",
              "    <tr>\n",
              "      <th>AVANTE</th>\n",
              "      <td>2.0</td>\n",
              "      <td>5.0</td>\n",
              "      <td>1.0</td>\n",
              "    </tr>\n",
              "    <tr>\n",
              "      <th>CIDADANIA</th>\n",
              "      <td>NaN</td>\n",
              "      <td>4.0</td>\n",
              "      <td>1.0</td>\n",
              "    </tr>\n",
              "    <tr>\n",
              "      <th>DEM</th>\n",
              "      <td>NaN</td>\n",
              "      <td>18.0</td>\n",
              "      <td>4.0</td>\n",
              "    </tr>\n",
              "    <tr>\n",
              "      <th>MDB</th>\n",
              "      <td>2.0</td>\n",
              "      <td>20.0</td>\n",
              "      <td>5.0</td>\n",
              "    </tr>\n",
              "    <tr>\n",
              "      <th>NOVO</th>\n",
              "      <td>NaN</td>\n",
              "      <td>NaN</td>\n",
              "      <td>8.0</td>\n",
              "    </tr>\n",
              "  </tbody>\n",
              "</table>\n",
              "</div>"
            ],
            "text/plain": [
              "Cluster                  0     1    2\n",
              "deputado_siglaPartido                \n",
              "AVANTE                 2.0   5.0  1.0\n",
              "CIDADANIA              NaN   4.0  1.0\n",
              "DEM                    NaN  18.0  4.0\n",
              "MDB                    2.0  20.0  5.0\n",
              "NOVO                   NaN   NaN  8.0"
            ]
          },
          "metadata": {},
          "execution_count": 145
        }
      ]
    },
    {
      "cell_type": "markdown",
      "metadata": {
        "id": "ZPutOuopK4dc"
      },
      "source": [
        "Exportando para analisar resultados"
      ]
    },
    {
      "cell_type": "code",
      "metadata": {
        "id": "eiy55Sr4K7LI"
      },
      "source": [
        "x1.to_csv(\"clusters_deputados.csv\", sep=';')"
      ],
      "execution_count": null,
      "outputs": []
    }
  ]
}