{
 "cells": [
  {
   "cell_type": "code",
   "execution_count": 3,
   "metadata": {
    "id": "bfoYyqfp42AK"
   },
   "outputs": [],
   "source": [
    "import pandas as pd\n",
    "import numpy as np\n",
    "import sklearn\n",
    "import seaborn as sns\n",
    "import matplotlib.pyplot as plt"
   ]
  },
  {
   "cell_type": "code",
   "execution_count": 4,
   "metadata": {
    "id": "Sp3NERGV42AM"
   },
   "outputs": [],
   "source": [
    "base_votos = pd.read_csv(\"https://raw.githubusercontent.com/biamuniz/cluster-deputados/main/dados/entrada/votacoesVotos-2021.csv\",sep=';')\n",
    "base_votacao = pd.read_csv(\"https://raw.githubusercontent.com/biamuniz/cluster-deputados/main/dados/entrada/votacoesObjetos-2021.csv\",sep=';')"
   ]
  },
  {
   "cell_type": "code",
   "execution_count": 5,
   "metadata": {
    "colab": {
     "base_uri": "https://localhost:8080/"
    },
    "id": "-WJSS8nj42AM",
    "outputId": "22542dc1-3bc1-44ab-9693-db0c1ccd87b0"
   },
   "outputs": [
    {
     "name": "stdout",
     "output_type": "stream",
     "text": [
      "<class 'pandas.core.frame.DataFrame'>\n",
      "RangeIndex: 49338 entries, 0 to 49337\n",
      "Data columns (total 12 columns):\n",
      " #   Column                Non-Null Count  Dtype  \n",
      "---  ------                --------------  -----  \n",
      " 0   idVotacao             49338 non-null  object \n",
      " 1   uriVotacao            49338 non-null  object \n",
      " 2   data                  49338 non-null  object \n",
      " 3   descricao             49338 non-null  object \n",
      " 4   proposicao_id         49338 non-null  int64  \n",
      " 5   proposicao_uri        49338 non-null  object \n",
      " 6   proposicao_ementa     48400 non-null  object \n",
      " 7   proposicao_codTipo    49338 non-null  int64  \n",
      " 8   proposicao_siglaTipo  49338 non-null  object \n",
      " 9   proposicao_numero     49338 non-null  int64  \n",
      " 10  proposicao_ano        14030 non-null  float64\n",
      " 11  proposicao_titulo     49338 non-null  object \n",
      "dtypes: float64(1), int64(3), object(8)\n",
      "memory usage: 4.5+ MB\n"
     ]
    }
   ],
   "source": [
    "base_votacao.info()"
   ]
  },
  {
   "cell_type": "code",
   "execution_count": 27,
   "metadata": {
    "id": "y8WGpzqy42AN"
   },
   "outputs": [],
   "source": [
    "x = base_votos.drop(['uriVotacao','dataHoraVoto','uriVotacao','deputado_uri'\n",
    "                   ,'deputado_uriPartido','deputado_siglaUf'\n",
    "                   ,'deputado_idLegislatura','deputado_urlFoto'],axis=1)"
   ]
  },
  {
   "cell_type": "code",
   "execution_count": 28,
   "metadata": {
    "colab": {
     "base_uri": "https://localhost:8080/"
    },
    "id": "8ob5xKvK42AO",
    "outputId": "1e5c50cb-5a1e-4a71-f2cf-845a9fa5d54e"
   },
   "outputs": [
    {
     "name": "stdout",
     "output_type": "stream",
     "text": [
      "Sim          159395\n",
      "Não          133770\n",
      "Obstrução      2741\n",
      "Abstenção       661\n",
      "Artigo 17       647\n",
      "Name: voto, dtype: int64\n"
     ]
    }
   ],
   "source": [
    "print(x.voto.value_counts())\n",
    "\n",
    "x.replace({\"voto\":{\"Sim\" : 1, \"Não\" : 0, \"Obstrução\" : 0, \"Abstenção\": 0.5, \"Artigo 17\": 0.5}}, inplace = True)\n",
    "\n",
    "x = x.pivot_table('voto', ['deputado_id','deputado_nome','deputado_siglaPartido'], 'idVotacao')"
   ]
  },
  {
   "cell_type": "code",
   "execution_count": 29,
   "metadata": {
    "id": "g26vYsxm42AO"
   },
   "outputs": [],
   "source": [
    "propostas_selecionadas = [#'2282791-60',\n",
    "                          '2293449-187',\n",
    "                          '2275537-117',\n",
    "                          '2275537-102',\n",
    "                          '2165194-130',\n",
    "                          '2210757-104',\n",
    "                          '2210757-93',\n",
    "                          '531331-317',\n",
    "                          '531331-284',\n",
    "                          '2166595-59']"
   ]
  },
  {
   "cell_type": "code",
   "execution_count": 30,
   "metadata": {
    "id": "8_Y9KcZE42AO"
   },
   "outputs": [],
   "source": [
    "base_votacao_selecionadas = base_votacao[base_votacao['idVotacao'].isin(propostas_selecionadas)]"
   ]
  },
  {
   "cell_type": "code",
   "execution_count": 31,
   "metadata": {
    "colab": {
     "base_uri": "https://localhost:8080/"
    },
    "id": "D2vBHzeo42AP",
    "outputId": "4c4a5dbc-418c-4610-97ce-e087d23ba44d"
   },
   "outputs": [
    {
     "name": "stdout",
     "output_type": "stream",
     "text": [
      "<class 'pandas.core.frame.DataFrame'>\n",
      "Int64Index: 60 entries, 23630 to 46740\n",
      "Data columns (total 12 columns):\n",
      " #   Column                Non-Null Count  Dtype  \n",
      "---  ------                --------------  -----  \n",
      " 0   idVotacao             60 non-null     object \n",
      " 1   uriVotacao            60 non-null     object \n",
      " 2   data                  60 non-null     object \n",
      " 3   descricao             60 non-null     object \n",
      " 4   proposicao_id         60 non-null     int64  \n",
      " 5   proposicao_uri        60 non-null     object \n",
      " 6   proposicao_ementa     60 non-null     object \n",
      " 7   proposicao_codTipo    60 non-null     int64  \n",
      " 8   proposicao_siglaTipo  60 non-null     object \n",
      " 9   proposicao_numero     60 non-null     int64  \n",
      " 10  proposicao_ano        28 non-null     float64\n",
      " 11  proposicao_titulo     60 non-null     object \n",
      "dtypes: float64(1), int64(3), object(8)\n",
      "memory usage: 6.1+ KB\n"
     ]
    }
   ],
   "source": [
    "base_votacao_selecionadas.info()"
   ]
  },
  {
   "cell_type": "code",
   "execution_count": 32,
   "metadata": {
    "id": "K-Z40lPP42AP"
   },
   "outputs": [],
   "source": [
    "x1 = x[propostas_selecionadas]"
   ]
  },
  {
   "cell_type": "code",
   "execution_count": 33,
   "metadata": {
    "colab": {
     "base_uri": "https://localhost:8080/"
    },
    "id": "SkOPsTi842AP",
    "outputId": "ff321d11-8695-4332-cbdf-0c85d90a31b7"
   },
   "outputs": [
    {
     "name": "stdout",
     "output_type": "stream",
     "text": [
      "<class 'pandas.core.frame.DataFrame'>\n",
      "MultiIndex: 553 entries, (62881, 'Danilo Forte', 'PSDB') to (218086, 'Ely Santos', 'REPUBLICANOS')\n",
      "Data columns (total 9 columns):\n",
      " #   Column       Non-Null Count  Dtype  \n",
      "---  ------       --------------  -----  \n",
      " 0   2293449-187  479 non-null    float64\n",
      " 1   2275537-117  444 non-null    float64\n",
      " 2   2275537-102  429 non-null    float64\n",
      " 3   2165194-130  459 non-null    float64\n",
      " 4   2210757-104  441 non-null    float64\n",
      " 5   2210757-93   442 non-null    float64\n",
      " 6   531331-317   440 non-null    float64\n",
      " 7   531331-284   429 non-null    float64\n",
      " 8   2166595-59   427 non-null    float64\n",
      "dtypes: float64(9)\n",
      "memory usage: 50.4+ KB\n"
     ]
    }
   ],
   "source": [
    "x1.info()"
   ]
  },
  {
   "cell_type": "code",
   "execution_count": 34,
   "metadata": {
    "id": "yfJEcois42AQ"
   },
   "outputs": [],
   "source": [
    "x1 = x1.dropna()"
   ]
  },
  {
   "cell_type": "code",
   "execution_count": 35,
   "metadata": {
    "colab": {
     "base_uri": "https://localhost:8080/"
    },
    "id": "Ond0ydMW42AQ",
    "outputId": "8bd7fa88-c044-49ff-8d98-62023e3248b6"
   },
   "outputs": [
    {
     "name": "stdout",
     "output_type": "stream",
     "text": [
      "<class 'pandas.core.frame.DataFrame'>\n",
      "MultiIndex: 211 entries, (62881, 'Danilo Forte', 'PSDB') to (215045, 'Pedro Augusto Palareti', 'PSD')\n",
      "Data columns (total 9 columns):\n",
      " #   Column       Non-Null Count  Dtype  \n",
      "---  ------       --------------  -----  \n",
      " 0   2293449-187  211 non-null    float64\n",
      " 1   2275537-117  211 non-null    float64\n",
      " 2   2275537-102  211 non-null    float64\n",
      " 3   2165194-130  211 non-null    float64\n",
      " 4   2210757-104  211 non-null    float64\n",
      " 5   2210757-93   211 non-null    float64\n",
      " 6   531331-317   211 non-null    float64\n",
      " 7   531331-284   211 non-null    float64\n",
      " 8   2166595-59   211 non-null    float64\n",
      "dtypes: float64(9)\n",
      "memory usage: 24.7+ KB\n"
     ]
    }
   ],
   "source": [
    "x1.info()"
   ]
  },
  {
   "cell_type": "code",
   "execution_count": 36,
   "metadata": {
    "id": "Pt901ipk42AQ"
   },
   "outputs": [],
   "source": [
    "from sklearn.cluster import KMeans"
   ]
  },
  {
   "cell_type": "code",
   "execution_count": 37,
   "metadata": {
    "id": "wq0qMCNT42AQ"
   },
   "outputs": [],
   "source": [
    "kmeans = KMeans(init=\"random\", n_clusters=3, n_init=10,max_iter=300)"
   ]
  },
  {
   "cell_type": "code",
   "execution_count": 38,
   "metadata": {
    "id": "V1nCq26_42AQ"
   },
   "outputs": [],
   "source": [
    "labels = kmeans.fit(x1)\n",
    "prediction = kmeans.predict(x1)\n",
    "prediction = pd.DataFrame(prediction)"
   ]
  },
  {
   "cell_type": "code",
   "execution_count": 39,
   "metadata": {
    "id": "ZWwt24qK42AR"
   },
   "outputs": [],
   "source": [
    "x1 = x1.reset_index(level =['deputado_id','deputado_nome','deputado_siglaPartido'])\n",
    "x1['Cluster'] = prediction"
   ]
  },
  {
   "cell_type": "code",
   "execution_count": 40,
   "metadata": {
    "colab": {
     "base_uri": "https://localhost:8080/",
     "height": 277
    },
    "id": "eMbC0hk-42AR",
    "outputId": "a6c1ba7b-d7ad-4270-e736-ea69182aec2e"
   },
   "outputs": [
    {
     "data": {
      "text/html": [
       "<div>\n",
       "<style scoped>\n",
       "    .dataframe tbody tr th:only-of-type {\n",
       "        vertical-align: middle;\n",
       "    }\n",
       "\n",
       "    .dataframe tbody tr th {\n",
       "        vertical-align: top;\n",
       "    }\n",
       "\n",
       "    .dataframe thead th {\n",
       "        text-align: right;\n",
       "    }\n",
       "</style>\n",
       "<table border=\"1\" class=\"dataframe\">\n",
       "  <thead>\n",
       "    <tr style=\"text-align: right;\">\n",
       "      <th>idVotacao</th>\n",
       "      <th>deputado_id</th>\n",
       "      <th>deputado_nome</th>\n",
       "      <th>deputado_siglaPartido</th>\n",
       "      <th>2293449-187</th>\n",
       "      <th>2275537-117</th>\n",
       "      <th>2275537-102</th>\n",
       "      <th>2165194-130</th>\n",
       "      <th>2210757-104</th>\n",
       "      <th>2210757-93</th>\n",
       "      <th>531331-317</th>\n",
       "      <th>531331-284</th>\n",
       "      <th>2166595-59</th>\n",
       "      <th>Cluster</th>\n",
       "    </tr>\n",
       "  </thead>\n",
       "  <tbody>\n",
       "    <tr>\n",
       "      <th>0</th>\n",
       "      <td>62881</td>\n",
       "      <td>Danilo Forte</td>\n",
       "      <td>PSDB</td>\n",
       "      <td>0.0</td>\n",
       "      <td>0.0</td>\n",
       "      <td>0.0</td>\n",
       "      <td>1.0</td>\n",
       "      <td>1.0</td>\n",
       "      <td>1.0</td>\n",
       "      <td>1.0</td>\n",
       "      <td>0.0</td>\n",
       "      <td>1.0</td>\n",
       "      <td>1</td>\n",
       "    </tr>\n",
       "    <tr>\n",
       "      <th>1</th>\n",
       "      <td>66828</td>\n",
       "      <td>Fausto Pinato</td>\n",
       "      <td>PP</td>\n",
       "      <td>1.0</td>\n",
       "      <td>0.0</td>\n",
       "      <td>0.0</td>\n",
       "      <td>1.0</td>\n",
       "      <td>1.0</td>\n",
       "      <td>1.0</td>\n",
       "      <td>1.0</td>\n",
       "      <td>0.0</td>\n",
       "      <td>1.0</td>\n",
       "      <td>2</td>\n",
       "    </tr>\n",
       "    <tr>\n",
       "      <th>2</th>\n",
       "      <td>73433</td>\n",
       "      <td>Arlindo Chinaglia</td>\n",
       "      <td>PT</td>\n",
       "      <td>0.0</td>\n",
       "      <td>0.0</td>\n",
       "      <td>0.0</td>\n",
       "      <td>1.0</td>\n",
       "      <td>1.0</td>\n",
       "      <td>1.0</td>\n",
       "      <td>1.0</td>\n",
       "      <td>0.0</td>\n",
       "      <td>1.0</td>\n",
       "      <td>1</td>\n",
       "    </tr>\n",
       "    <tr>\n",
       "      <th>3</th>\n",
       "      <td>73466</td>\n",
       "      <td>Rubens Bueno</td>\n",
       "      <td>CIDADANIA</td>\n",
       "      <td>1.0</td>\n",
       "      <td>1.0</td>\n",
       "      <td>1.0</td>\n",
       "      <td>1.0</td>\n",
       "      <td>1.0</td>\n",
       "      <td>1.0</td>\n",
       "      <td>0.0</td>\n",
       "      <td>0.0</td>\n",
       "      <td>1.0</td>\n",
       "      <td>0</td>\n",
       "    </tr>\n",
       "    <tr>\n",
       "      <th>4</th>\n",
       "      <td>73482</td>\n",
       "      <td>Henrique Fontana</td>\n",
       "      <td>PT</td>\n",
       "      <td>0.0</td>\n",
       "      <td>0.0</td>\n",
       "      <td>0.0</td>\n",
       "      <td>1.0</td>\n",
       "      <td>1.0</td>\n",
       "      <td>1.0</td>\n",
       "      <td>1.0</td>\n",
       "      <td>0.0</td>\n",
       "      <td>1.0</td>\n",
       "      <td>1</td>\n",
       "    </tr>\n",
       "  </tbody>\n",
       "</table>\n",
       "</div>"
      ],
      "text/plain": [
       "idVotacao  deputado_id      deputado_nome deputado_siglaPartido  2293449-187  \\\n",
       "0                62881       Danilo Forte                  PSDB          0.0   \n",
       "1                66828      Fausto Pinato                    PP          1.0   \n",
       "2                73433  Arlindo Chinaglia                    PT          0.0   \n",
       "3                73466       Rubens Bueno             CIDADANIA          1.0   \n",
       "4                73482   Henrique Fontana                    PT          0.0   \n",
       "\n",
       "idVotacao  2275537-117  2275537-102  2165194-130  2210757-104  2210757-93  \\\n",
       "0                  0.0          0.0          1.0          1.0         1.0   \n",
       "1                  0.0          0.0          1.0          1.0         1.0   \n",
       "2                  0.0          0.0          1.0          1.0         1.0   \n",
       "3                  1.0          1.0          1.0          1.0         1.0   \n",
       "4                  0.0          0.0          1.0          1.0         1.0   \n",
       "\n",
       "idVotacao  531331-317  531331-284  2166595-59  Cluster  \n",
       "0                 1.0         0.0         1.0        1  \n",
       "1                 1.0         0.0         1.0        2  \n",
       "2                 1.0         0.0         1.0        1  \n",
       "3                 0.0         0.0         1.0        0  \n",
       "4                 1.0         0.0         1.0        1  "
      ]
     },
     "execution_count": 40,
     "metadata": {},
     "output_type": "execute_result"
    }
   ],
   "source": [
    "x1.head()"
   ]
  },
  {
   "cell_type": "code",
   "execution_count": 41,
   "metadata": {
    "id": "5Gjvml1342AR"
   },
   "outputs": [],
   "source": [
    "cluster = x1.groupby(['deputado_siglaPartido','Cluster']).size().reset_index(name='counts')"
   ]
  },
  {
   "cell_type": "code",
   "execution_count": 42,
   "metadata": {
    "colab": {
     "base_uri": "https://localhost:8080/",
     "height": 206
    },
    "id": "4Dql06yO42AR",
    "outputId": "cac440de-f243-4126-b32f-0d14bb420e71"
   },
   "outputs": [
    {
     "data": {
      "text/html": [
       "<div>\n",
       "<style scoped>\n",
       "    .dataframe tbody tr th:only-of-type {\n",
       "        vertical-align: middle;\n",
       "    }\n",
       "\n",
       "    .dataframe tbody tr th {\n",
       "        vertical-align: top;\n",
       "    }\n",
       "\n",
       "    .dataframe thead th {\n",
       "        text-align: right;\n",
       "    }\n",
       "</style>\n",
       "<table border=\"1\" class=\"dataframe\">\n",
       "  <thead>\n",
       "    <tr style=\"text-align: right;\">\n",
       "      <th></th>\n",
       "      <th>deputado_siglaPartido</th>\n",
       "      <th>Cluster</th>\n",
       "      <th>counts</th>\n",
       "    </tr>\n",
       "  </thead>\n",
       "  <tbody>\n",
       "    <tr>\n",
       "      <th>0</th>\n",
       "      <td>AVANTE</td>\n",
       "      <td>0</td>\n",
       "      <td>2</td>\n",
       "    </tr>\n",
       "    <tr>\n",
       "      <th>1</th>\n",
       "      <td>AVANTE</td>\n",
       "      <td>2</td>\n",
       "      <td>1</td>\n",
       "    </tr>\n",
       "    <tr>\n",
       "      <th>2</th>\n",
       "      <td>CIDADANIA</td>\n",
       "      <td>0</td>\n",
       "      <td>5</td>\n",
       "    </tr>\n",
       "    <tr>\n",
       "      <th>3</th>\n",
       "      <td>CIDADANIA</td>\n",
       "      <td>2</td>\n",
       "      <td>1</td>\n",
       "    </tr>\n",
       "    <tr>\n",
       "      <th>4</th>\n",
       "      <td>DEM</td>\n",
       "      <td>0</td>\n",
       "      <td>3</td>\n",
       "    </tr>\n",
       "  </tbody>\n",
       "</table>\n",
       "</div>"
      ],
      "text/plain": [
       "  deputado_siglaPartido  Cluster  counts\n",
       "0                AVANTE        0       2\n",
       "1                AVANTE        2       1\n",
       "2             CIDADANIA        0       5\n",
       "3             CIDADANIA        2       1\n",
       "4                   DEM        0       3"
      ]
     },
     "execution_count": 42,
     "metadata": {},
     "output_type": "execute_result"
    }
   ],
   "source": [
    "cluster.head()"
   ]
  },
  {
   "cell_type": "code",
   "execution_count": 43,
   "metadata": {
    "id": "4UeM_svW42AS"
   },
   "outputs": [],
   "source": [
    "cluster_final = cluster.pivot_table('counts', ['deputado_siglaPartido'], 'Cluster')"
   ]
  },
  {
   "cell_type": "code",
   "execution_count": 44,
   "metadata": {
    "colab": {
     "base_uri": "https://localhost:8080/",
     "height": 770
    },
    "id": "ipr4phXY42AS",
    "outputId": "f1f4de1c-e3a6-4b1e-adba-9c48e461662d"
   },
   "outputs": [
    {
     "data": {
      "text/html": [
       "<div>\n",
       "<style scoped>\n",
       "    .dataframe tbody tr th:only-of-type {\n",
       "        vertical-align: middle;\n",
       "    }\n",
       "\n",
       "    .dataframe tbody tr th {\n",
       "        vertical-align: top;\n",
       "    }\n",
       "\n",
       "    .dataframe thead th {\n",
       "        text-align: right;\n",
       "    }\n",
       "</style>\n",
       "<table border=\"1\" class=\"dataframe\">\n",
       "  <thead>\n",
       "    <tr style=\"text-align: right;\">\n",
       "      <th>Cluster</th>\n",
       "      <th>0</th>\n",
       "      <th>1</th>\n",
       "      <th>2</th>\n",
       "    </tr>\n",
       "    <tr>\n",
       "      <th>deputado_siglaPartido</th>\n",
       "      <th></th>\n",
       "      <th></th>\n",
       "      <th></th>\n",
       "    </tr>\n",
       "  </thead>\n",
       "  <tbody>\n",
       "    <tr>\n",
       "      <th>AVANTE</th>\n",
       "      <td>2.0</td>\n",
       "      <td>NaN</td>\n",
       "      <td>1.0</td>\n",
       "    </tr>\n",
       "    <tr>\n",
       "      <th>CIDADANIA</th>\n",
       "      <td>5.0</td>\n",
       "      <td>NaN</td>\n",
       "      <td>1.0</td>\n",
       "    </tr>\n",
       "    <tr>\n",
       "      <th>DEM</th>\n",
       "      <td>3.0</td>\n",
       "      <td>NaN</td>\n",
       "      <td>3.0</td>\n",
       "    </tr>\n",
       "    <tr>\n",
       "      <th>MDB</th>\n",
       "      <td>3.0</td>\n",
       "      <td>NaN</td>\n",
       "      <td>6.0</td>\n",
       "    </tr>\n",
       "    <tr>\n",
       "      <th>NOVO</th>\n",
       "      <td>8.0</td>\n",
       "      <td>NaN</td>\n",
       "      <td>NaN</td>\n",
       "    </tr>\n",
       "    <tr>\n",
       "      <th>PCdoB</th>\n",
       "      <td>NaN</td>\n",
       "      <td>5.0</td>\n",
       "      <td>NaN</td>\n",
       "    </tr>\n",
       "    <tr>\n",
       "      <th>PDT</th>\n",
       "      <td>6.0</td>\n",
       "      <td>1.0</td>\n",
       "      <td>NaN</td>\n",
       "    </tr>\n",
       "    <tr>\n",
       "      <th>PL</th>\n",
       "      <td>1.0</td>\n",
       "      <td>NaN</td>\n",
       "      <td>10.0</td>\n",
       "    </tr>\n",
       "    <tr>\n",
       "      <th>PODE</th>\n",
       "      <td>1.0</td>\n",
       "      <td>2.0</td>\n",
       "      <td>2.0</td>\n",
       "    </tr>\n",
       "    <tr>\n",
       "      <th>PP</th>\n",
       "      <td>2.0</td>\n",
       "      <td>NaN</td>\n",
       "      <td>6.0</td>\n",
       "    </tr>\n",
       "    <tr>\n",
       "      <th>PROS</th>\n",
       "      <td>3.0</td>\n",
       "      <td>1.0</td>\n",
       "      <td>1.0</td>\n",
       "    </tr>\n",
       "    <tr>\n",
       "      <th>PSB</th>\n",
       "      <td>9.0</td>\n",
       "      <td>4.0</td>\n",
       "      <td>3.0</td>\n",
       "    </tr>\n",
       "    <tr>\n",
       "      <th>PSC</th>\n",
       "      <td>1.0</td>\n",
       "      <td>NaN</td>\n",
       "      <td>5.0</td>\n",
       "    </tr>\n",
       "    <tr>\n",
       "      <th>PSD</th>\n",
       "      <td>3.0</td>\n",
       "      <td>NaN</td>\n",
       "      <td>10.0</td>\n",
       "    </tr>\n",
       "    <tr>\n",
       "      <th>PSDB</th>\n",
       "      <td>8.0</td>\n",
       "      <td>1.0</td>\n",
       "      <td>4.0</td>\n",
       "    </tr>\n",
       "    <tr>\n",
       "      <th>PSL</th>\n",
       "      <td>9.0</td>\n",
       "      <td>1.0</td>\n",
       "      <td>25.0</td>\n",
       "    </tr>\n",
       "    <tr>\n",
       "      <th>PSOL</th>\n",
       "      <td>3.0</td>\n",
       "      <td>NaN</td>\n",
       "      <td>NaN</td>\n",
       "    </tr>\n",
       "    <tr>\n",
       "      <th>PT</th>\n",
       "      <td>NaN</td>\n",
       "      <td>32.0</td>\n",
       "      <td>NaN</td>\n",
       "    </tr>\n",
       "    <tr>\n",
       "      <th>PTB</th>\n",
       "      <td>NaN</td>\n",
       "      <td>NaN</td>\n",
       "      <td>1.0</td>\n",
       "    </tr>\n",
       "    <tr>\n",
       "      <th>PV</th>\n",
       "      <td>1.0</td>\n",
       "      <td>NaN</td>\n",
       "      <td>NaN</td>\n",
       "    </tr>\n",
       "    <tr>\n",
       "      <th>REPUBLICANOS</th>\n",
       "      <td>1.0</td>\n",
       "      <td>NaN</td>\n",
       "      <td>13.0</td>\n",
       "    </tr>\n",
       "    <tr>\n",
       "      <th>SOLIDARIEDADE</th>\n",
       "      <td>NaN</td>\n",
       "      <td>NaN</td>\n",
       "      <td>4.0</td>\n",
       "    </tr>\n",
       "  </tbody>\n",
       "</table>\n",
       "</div>"
      ],
      "text/plain": [
       "Cluster                  0     1     2\n",
       "deputado_siglaPartido                 \n",
       "AVANTE                 2.0   NaN   1.0\n",
       "CIDADANIA              5.0   NaN   1.0\n",
       "DEM                    3.0   NaN   3.0\n",
       "MDB                    3.0   NaN   6.0\n",
       "NOVO                   8.0   NaN   NaN\n",
       "PCdoB                  NaN   5.0   NaN\n",
       "PDT                    6.0   1.0   NaN\n",
       "PL                     1.0   NaN  10.0\n",
       "PODE                   1.0   2.0   2.0\n",
       "PP                     2.0   NaN   6.0\n",
       "PROS                   3.0   1.0   1.0\n",
       "PSB                    9.0   4.0   3.0\n",
       "PSC                    1.0   NaN   5.0\n",
       "PSD                    3.0   NaN  10.0\n",
       "PSDB                   8.0   1.0   4.0\n",
       "PSL                    9.0   1.0  25.0\n",
       "PSOL                   3.0   NaN   NaN\n",
       "PT                     NaN  32.0   NaN\n",
       "PTB                    NaN   NaN   1.0\n",
       "PV                     1.0   NaN   NaN\n",
       "REPUBLICANOS           1.0   NaN  13.0\n",
       "SOLIDARIEDADE          NaN   NaN   4.0"
      ]
     },
     "execution_count": 44,
     "metadata": {},
     "output_type": "execute_result"
    }
   ],
   "source": [
    "cluster_final"
   ]
  },
  {
   "cell_type": "code",
   "execution_count": 45,
   "metadata": {
    "id": "84cA2oWb42AS"
   },
   "outputs": [],
   "source": [
    "x1.to_csv(\"clusters_deputados.csv\", sep=';')"
   ]
  },
  {
   "cell_type": "markdown",
   "metadata": {
    "colab": {
     "base_uri": "https://localhost:8080/",
     "height": 530
    },
    "id": "aTo5AYec1OHk",
    "outputId": "7da4d4dc-7c16-414c-88dd-57d3dc228cea"
   },
   "source": [
    "### Código para formatar a planilha de deputados para o formato *tidy* e salvá-la em csv (importante para as visualizações no flourish"
   ]
  },
  {
   "cell_type": "code",
   "execution_count": 46,
   "metadata": {},
   "outputs": [
    {
     "data": {
      "text/html": [
       "<div>\n",
       "<style scoped>\n",
       "    .dataframe tbody tr th:only-of-type {\n",
       "        vertical-align: middle;\n",
       "    }\n",
       "\n",
       "    .dataframe tbody tr th {\n",
       "        vertical-align: top;\n",
       "    }\n",
       "\n",
       "    .dataframe thead th {\n",
       "        text-align: right;\n",
       "    }\n",
       "</style>\n",
       "<table border=\"1\" class=\"dataframe\">\n",
       "  <thead>\n",
       "    <tr style=\"text-align: right;\">\n",
       "      <th></th>\n",
       "      <th>deputado_id</th>\n",
       "      <th>deputado_nome</th>\n",
       "      <th>deputado_siglaPartido</th>\n",
       "      <th>Cluster</th>\n",
       "      <th>votação</th>\n",
       "      <th>freq</th>\n",
       "    </tr>\n",
       "  </thead>\n",
       "  <tbody>\n",
       "    <tr>\n",
       "      <th>174</th>\n",
       "      <td>204515</td>\n",
       "      <td>André Janones</td>\n",
       "      <td>AVANTE</td>\n",
       "      <td>0</td>\n",
       "      <td>2293449-187</td>\n",
       "      <td>0.0</td>\n",
       "    </tr>\n",
       "    <tr>\n",
       "      <th>1425</th>\n",
       "      <td>204476</td>\n",
       "      <td>Chiquinho Brazão</td>\n",
       "      <td>AVANTE</td>\n",
       "      <td>2</td>\n",
       "      <td>531331-317</td>\n",
       "      <td>1.0</td>\n",
       "    </tr>\n",
       "    <tr>\n",
       "      <th>1787</th>\n",
       "      <td>197438</td>\n",
       "      <td>Tito</td>\n",
       "      <td>AVANTE</td>\n",
       "      <td>0</td>\n",
       "      <td>2166595-59</td>\n",
       "      <td>1.0</td>\n",
       "    </tr>\n",
       "    <tr>\n",
       "      <th>1440</th>\n",
       "      <td>204515</td>\n",
       "      <td>André Janones</td>\n",
       "      <td>AVANTE</td>\n",
       "      <td>0</td>\n",
       "      <td>531331-317</td>\n",
       "      <td>0.0</td>\n",
       "    </tr>\n",
       "    <tr>\n",
       "      <th>1636</th>\n",
       "      <td>204476</td>\n",
       "      <td>Chiquinho Brazão</td>\n",
       "      <td>AVANTE</td>\n",
       "      <td>2</td>\n",
       "      <td>531331-284</td>\n",
       "      <td>0.0</td>\n",
       "    </tr>\n",
       "    <tr>\n",
       "      <th>521</th>\n",
       "      <td>197438</td>\n",
       "      <td>Tito</td>\n",
       "      <td>AVANTE</td>\n",
       "      <td>0</td>\n",
       "      <td>2275537-102</td>\n",
       "      <td>1.0</td>\n",
       "    </tr>\n",
       "    <tr>\n",
       "      <th>1862</th>\n",
       "      <td>204515</td>\n",
       "      <td>André Janones</td>\n",
       "      <td>AVANTE</td>\n",
       "      <td>0</td>\n",
       "      <td>2166595-59</td>\n",
       "      <td>1.0</td>\n",
       "    </tr>\n",
       "    <tr>\n",
       "      <th>732</th>\n",
       "      <td>197438</td>\n",
       "      <td>Tito</td>\n",
       "      <td>AVANTE</td>\n",
       "      <td>0</td>\n",
       "      <td>2165194-130</td>\n",
       "      <td>1.0</td>\n",
       "    </tr>\n",
       "    <tr>\n",
       "      <th>1003</th>\n",
       "      <td>204476</td>\n",
       "      <td>Chiquinho Brazão</td>\n",
       "      <td>AVANTE</td>\n",
       "      <td>2</td>\n",
       "      <td>2210757-104</td>\n",
       "      <td>0.0</td>\n",
       "    </tr>\n",
       "    <tr>\n",
       "      <th>792</th>\n",
       "      <td>204476</td>\n",
       "      <td>Chiquinho Brazão</td>\n",
       "      <td>AVANTE</td>\n",
       "      <td>2</td>\n",
       "      <td>2165194-130</td>\n",
       "      <td>1.0</td>\n",
       "    </tr>\n",
       "  </tbody>\n",
       "</table>\n",
       "</div>"
      ],
      "text/plain": [
       "      deputado_id     deputado_nome deputado_siglaPartido  Cluster  \\\n",
       "174        204515     André Janones                AVANTE        0   \n",
       "1425       204476  Chiquinho Brazão                AVANTE        2   \n",
       "1787       197438              Tito                AVANTE        0   \n",
       "1440       204515     André Janones                AVANTE        0   \n",
       "1636       204476  Chiquinho Brazão                AVANTE        2   \n",
       "521        197438              Tito                AVANTE        0   \n",
       "1862       204515     André Janones                AVANTE        0   \n",
       "732        197438              Tito                AVANTE        0   \n",
       "1003       204476  Chiquinho Brazão                AVANTE        2   \n",
       "792        204476  Chiquinho Brazão                AVANTE        2   \n",
       "\n",
       "          votação  freq  \n",
       "174   2293449-187   0.0  \n",
       "1425   531331-317   1.0  \n",
       "1787   2166595-59   1.0  \n",
       "1440   531331-317   0.0  \n",
       "1636   531331-284   0.0  \n",
       "521   2275537-102   1.0  \n",
       "1862   2166595-59   1.0  \n",
       "732   2165194-130   1.0  \n",
       "1003  2210757-104   0.0  \n",
       "792   2165194-130   1.0  "
      ]
     },
     "execution_count": 46,
     "metadata": {},
     "output_type": "execute_result"
    }
   ],
   "source": [
    "tidy_cluster = pd.melt(x1,\n",
    "                       ['deputado_id', 'deputado_nome', 'deputado_siglaPartido', 'Cluster'],\n",
    "                       var_name=\"votação\",\n",
    "                       value_name=\"freq\")\n",
    "tidy_cluster = tidy_cluster.sort_values(by=[\"deputado_siglaPartido\"])\n",
    "tidy_cluster.head(10)"
   ]
  }
 ],
 "metadata": {
  "colab": {
   "collapsed_sections": [],
   "name": "cluter_pecs.ipynb",
   "provenance": []
  },
  "kernelspec": {
   "display_name": "Python 3",
   "language": "python",
   "name": "python3"
  },
  "language_info": {
   "codemirror_mode": {
    "name": "ipython",
    "version": 3
   },
   "file_extension": ".py",
   "mimetype": "text/x-python",
   "name": "python",
   "nbconvert_exporter": "python",
   "pygments_lexer": "ipython3",
   "version": "3.8.8"
  }
 },
 "nbformat": 4,
 "nbformat_minor": 1
}
