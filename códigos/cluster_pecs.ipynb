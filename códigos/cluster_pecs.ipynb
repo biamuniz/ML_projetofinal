{
  "cells": [
    {
      "cell_type": "code",
      "execution_count": null,
      "metadata": {
        "id": "bfoYyqfp42AK"
      },
      "outputs": [],
      "source": [
        "import pandas as pd\n",
        "import numpy as np\n",
        "import sklearn\n",
        "import seaborn as sns\n",
        "import matplotlib.pyplot as plt"
      ]
    },
    {
      "cell_type": "code",
      "execution_count": null,
      "metadata": {
        "id": "Sp3NERGV42AM"
      },
      "outputs": [],
      "source": [
        "base_votos = pd.read_csv(\"votacoesVotos-2021.csv\",sep=';')\n",
        "base_votacao = pd.read_csv(\"votacoesObjetos-2021.csv\",sep=';')"
      ]
    },
    {
      "cell_type": "code",
      "execution_count": null,
      "metadata": {
        "id": "-WJSS8nj42AM",
        "outputId": "22542dc1-3bc1-44ab-9693-db0c1ccd87b0",
        "colab": {
          "base_uri": "https://localhost:8080/"
        }
      },
      "outputs": [
        {
          "output_type": "stream",
          "name": "stdout",
          "text": [
            "<class 'pandas.core.frame.DataFrame'>\n",
            "RangeIndex: 49338 entries, 0 to 49337\n",
            "Data columns (total 12 columns):\n",
            " #   Column                Non-Null Count  Dtype  \n",
            "---  ------                --------------  -----  \n",
            " 0   idVotacao             49338 non-null  object \n",
            " 1   uriVotacao            49338 non-null  object \n",
            " 2   data                  49338 non-null  object \n",
            " 3   descricao             49338 non-null  object \n",
            " 4   proposicao_id         49338 non-null  int64  \n",
            " 5   proposicao_uri        49338 non-null  object \n",
            " 6   proposicao_ementa     48400 non-null  object \n",
            " 7   proposicao_codTipo    49338 non-null  int64  \n",
            " 8   proposicao_siglaTipo  49338 non-null  object \n",
            " 9   proposicao_numero     49338 non-null  int64  \n",
            " 10  proposicao_ano        14030 non-null  float64\n",
            " 11  proposicao_titulo     49338 non-null  object \n",
            "dtypes: float64(1), int64(3), object(8)\n",
            "memory usage: 4.5+ MB\n"
          ]
        }
      ],
      "source": [
        "base_votacao.info()"
      ]
    },
    {
      "cell_type": "code",
      "execution_count": null,
      "metadata": {
        "id": "y8WGpzqy42AN"
      },
      "outputs": [],
      "source": [
        "x = base_votos.drop(['uriVotacao','dataHoraVoto','uriVotacao','deputado_uri'\n",
        "                   ,'deputado_uriPartido','deputado_siglaUf'\n",
        "                   ,'deputado_idLegislatura','deputado_urlFoto'],axis=1)"
      ]
    },
    {
      "cell_type": "code",
      "execution_count": null,
      "metadata": {
        "id": "8ob5xKvK42AO",
        "outputId": "1e5c50cb-5a1e-4a71-f2cf-845a9fa5d54e",
        "colab": {
          "base_uri": "https://localhost:8080/"
        }
      },
      "outputs": [
        {
          "output_type": "stream",
          "name": "stdout",
          "text": [
            "Sim          159395\n",
            "Não          133770\n",
            "Obstrução      2741\n",
            "Abstenção       661\n",
            "Artigo 17       647\n",
            "Name: voto, dtype: int64\n"
          ]
        }
      ],
      "source": [
        "print(x.voto.value_counts())\n",
        "\n",
        "x.replace({\"voto\":{\"Sim\" : 1, \"Não\" : 0, \"Obstrução\" : 0, \"Abstenção\": 0.5, \"Artigo 17\": 0.5}}, inplace = True)\n",
        "\n",
        "x = x.pivot_table('voto', ['deputado_id','deputado_nome','deputado_siglaPartido'], 'idVotacao')"
      ]
    },
    {
      "cell_type": "code",
      "execution_count": null,
      "metadata": {
        "id": "g26vYsxm42AO"
      },
      "outputs": [],
      "source": [
        "propostas_selecionadas = [#'2282791-60',\n",
        "                          '2293449-187',\n",
        "                          '2275537-117',\n",
        "                          '2275537-102',\n",
        "                          '2165194-130',\n",
        "                          '2210757-104',\n",
        "                          '2210757-93',\n",
        "                          '531331-317',\n",
        "                          '531331-284',\n",
        "                          '2166595-59']\n"
      ]
    },
    {
      "cell_type": "code",
      "execution_count": null,
      "metadata": {
        "id": "8_Y9KcZE42AO"
      },
      "outputs": [],
      "source": [
        "base_votacao_selecionadas = base_votacao[base_votacao['idVotacao'].isin(propostas_selecionadas)]"
      ]
    },
    {
      "cell_type": "code",
      "execution_count": null,
      "metadata": {
        "id": "D2vBHzeo42AP",
        "outputId": "4c4a5dbc-418c-4610-97ce-e087d23ba44d",
        "colab": {
          "base_uri": "https://localhost:8080/"
        }
      },
      "outputs": [
        {
          "output_type": "stream",
          "name": "stdout",
          "text": [
            "<class 'pandas.core.frame.DataFrame'>\n",
            "Int64Index: 60 entries, 23630 to 46740\n",
            "Data columns (total 12 columns):\n",
            " #   Column                Non-Null Count  Dtype  \n",
            "---  ------                --------------  -----  \n",
            " 0   idVotacao             60 non-null     object \n",
            " 1   uriVotacao            60 non-null     object \n",
            " 2   data                  60 non-null     object \n",
            " 3   descricao             60 non-null     object \n",
            " 4   proposicao_id         60 non-null     int64  \n",
            " 5   proposicao_uri        60 non-null     object \n",
            " 6   proposicao_ementa     60 non-null     object \n",
            " 7   proposicao_codTipo    60 non-null     int64  \n",
            " 8   proposicao_siglaTipo  60 non-null     object \n",
            " 9   proposicao_numero     60 non-null     int64  \n",
            " 10  proposicao_ano        28 non-null     float64\n",
            " 11  proposicao_titulo     60 non-null     object \n",
            "dtypes: float64(1), int64(3), object(8)\n",
            "memory usage: 6.1+ KB\n"
          ]
        }
      ],
      "source": [
        "base_votacao_selecionadas.info()"
      ]
    },
    {
      "cell_type": "code",
      "execution_count": null,
      "metadata": {
        "id": "K-Z40lPP42AP"
      },
      "outputs": [],
      "source": [
        "x1 = x[propostas_selecionadas]"
      ]
    },
    {
      "cell_type": "code",
      "execution_count": null,
      "metadata": {
        "id": "SkOPsTi842AP",
        "outputId": "ff321d11-8695-4332-cbdf-0c85d90a31b7",
        "colab": {
          "base_uri": "https://localhost:8080/"
        }
      },
      "outputs": [
        {
          "output_type": "stream",
          "name": "stdout",
          "text": [
            "<class 'pandas.core.frame.DataFrame'>\n",
            "MultiIndex: 553 entries, (62881, 'Danilo Forte', 'PSDB') to (218086, 'Ely Santos', 'REPUBLICANOS')\n",
            "Data columns (total 9 columns):\n",
            " #   Column       Non-Null Count  Dtype  \n",
            "---  ------       --------------  -----  \n",
            " 0   2293449-187  479 non-null    float64\n",
            " 1   2275537-117  444 non-null    float64\n",
            " 2   2275537-102  429 non-null    float64\n",
            " 3   2165194-130  459 non-null    float64\n",
            " 4   2210757-104  441 non-null    float64\n",
            " 5   2210757-93   442 non-null    float64\n",
            " 6   531331-317   440 non-null    float64\n",
            " 7   531331-284   429 non-null    float64\n",
            " 8   2166595-59   427 non-null    float64\n",
            "dtypes: float64(9)\n",
            "memory usage: 50.4+ KB\n"
          ]
        }
      ],
      "source": [
        "x1.info()"
      ]
    },
    {
      "cell_type": "code",
      "execution_count": null,
      "metadata": {
        "id": "yfJEcois42AQ"
      },
      "outputs": [],
      "source": [
        "x1 = x1.dropna()"
      ]
    },
    {
      "cell_type": "code",
      "execution_count": null,
      "metadata": {
        "id": "Ond0ydMW42AQ",
        "outputId": "8bd7fa88-c044-49ff-8d98-62023e3248b6",
        "colab": {
          "base_uri": "https://localhost:8080/"
        }
      },
      "outputs": [
        {
          "output_type": "stream",
          "name": "stdout",
          "text": [
            "<class 'pandas.core.frame.DataFrame'>\n",
            "MultiIndex: 211 entries, (62881, 'Danilo Forte', 'PSDB') to (215045, 'Pedro Augusto Palareti', 'PSD')\n",
            "Data columns (total 9 columns):\n",
            " #   Column       Non-Null Count  Dtype  \n",
            "---  ------       --------------  -----  \n",
            " 0   2293449-187  211 non-null    float64\n",
            " 1   2275537-117  211 non-null    float64\n",
            " 2   2275537-102  211 non-null    float64\n",
            " 3   2165194-130  211 non-null    float64\n",
            " 4   2210757-104  211 non-null    float64\n",
            " 5   2210757-93   211 non-null    float64\n",
            " 6   531331-317   211 non-null    float64\n",
            " 7   531331-284   211 non-null    float64\n",
            " 8   2166595-59   211 non-null    float64\n",
            "dtypes: float64(9)\n",
            "memory usage: 24.7+ KB\n"
          ]
        }
      ],
      "source": [
        "x1.info()"
      ]
    },
    {
      "cell_type": "code",
      "execution_count": null,
      "metadata": {
        "id": "Pt901ipk42AQ"
      },
      "outputs": [],
      "source": [
        "from sklearn.cluster import KMeans"
      ]
    },
    {
      "cell_type": "code",
      "execution_count": null,
      "metadata": {
        "id": "wq0qMCNT42AQ"
      },
      "outputs": [],
      "source": [
        "kmeans = KMeans(init=\"random\", n_clusters=3, n_init=10,max_iter=300)"
      ]
    },
    {
      "cell_type": "code",
      "execution_count": null,
      "metadata": {
        "id": "V1nCq26_42AQ"
      },
      "outputs": [],
      "source": [
        "labels = kmeans.fit(x1)\n",
        "prediction = kmeans.predict(x1)\n",
        "prediction = pd.DataFrame(prediction)"
      ]
    },
    {
      "cell_type": "code",
      "execution_count": null,
      "metadata": {
        "id": "ZWwt24qK42AR"
      },
      "outputs": [],
      "source": [
        "x1 = x1.reset_index(level =['deputado_id','deputado_nome','deputado_siglaPartido'])\n",
        "x1['Cluster'] = prediction"
      ]
    },
    {
      "cell_type": "code",
      "execution_count": null,
      "metadata": {
        "id": "eMbC0hk-42AR",
        "outputId": "a6c1ba7b-d7ad-4270-e736-ea69182aec2e",
        "colab": {
          "base_uri": "https://localhost:8080/",
          "height": 277
        }
      },
      "outputs": [
        {
          "output_type": "execute_result",
          "data": {
            "text/html": [
              "<div>\n",
              "<style scoped>\n",
              "    .dataframe tbody tr th:only-of-type {\n",
              "        vertical-align: middle;\n",
              "    }\n",
              "\n",
              "    .dataframe tbody tr th {\n",
              "        vertical-align: top;\n",
              "    }\n",
              "\n",
              "    .dataframe thead th {\n",
              "        text-align: right;\n",
              "    }\n",
              "</style>\n",
              "<table border=\"1\" class=\"dataframe\">\n",
              "  <thead>\n",
              "    <tr style=\"text-align: right;\">\n",
              "      <th>idVotacao</th>\n",
              "      <th>deputado_id</th>\n",
              "      <th>deputado_nome</th>\n",
              "      <th>deputado_siglaPartido</th>\n",
              "      <th>2293449-187</th>\n",
              "      <th>2275537-117</th>\n",
              "      <th>2275537-102</th>\n",
              "      <th>2165194-130</th>\n",
              "      <th>2210757-104</th>\n",
              "      <th>2210757-93</th>\n",
              "      <th>531331-317</th>\n",
              "      <th>531331-284</th>\n",
              "      <th>2166595-59</th>\n",
              "      <th>Cluster</th>\n",
              "    </tr>\n",
              "  </thead>\n",
              "  <tbody>\n",
              "    <tr>\n",
              "      <th>0</th>\n",
              "      <td>62881</td>\n",
              "      <td>Danilo Forte</td>\n",
              "      <td>PSDB</td>\n",
              "      <td>0.0</td>\n",
              "      <td>0.0</td>\n",
              "      <td>0.0</td>\n",
              "      <td>1.0</td>\n",
              "      <td>1.0</td>\n",
              "      <td>1.0</td>\n",
              "      <td>1.0</td>\n",
              "      <td>0.0</td>\n",
              "      <td>1.0</td>\n",
              "      <td>0</td>\n",
              "    </tr>\n",
              "    <tr>\n",
              "      <th>1</th>\n",
              "      <td>66828</td>\n",
              "      <td>Fausto Pinato</td>\n",
              "      <td>PP</td>\n",
              "      <td>1.0</td>\n",
              "      <td>0.0</td>\n",
              "      <td>0.0</td>\n",
              "      <td>1.0</td>\n",
              "      <td>1.0</td>\n",
              "      <td>1.0</td>\n",
              "      <td>1.0</td>\n",
              "      <td>0.0</td>\n",
              "      <td>1.0</td>\n",
              "      <td>0</td>\n",
              "    </tr>\n",
              "    <tr>\n",
              "      <th>2</th>\n",
              "      <td>73433</td>\n",
              "      <td>Arlindo Chinaglia</td>\n",
              "      <td>PT</td>\n",
              "      <td>0.0</td>\n",
              "      <td>0.0</td>\n",
              "      <td>0.0</td>\n",
              "      <td>1.0</td>\n",
              "      <td>1.0</td>\n",
              "      <td>1.0</td>\n",
              "      <td>1.0</td>\n",
              "      <td>0.0</td>\n",
              "      <td>1.0</td>\n",
              "      <td>0</td>\n",
              "    </tr>\n",
              "    <tr>\n",
              "      <th>3</th>\n",
              "      <td>73466</td>\n",
              "      <td>Rubens Bueno</td>\n",
              "      <td>CIDADANIA</td>\n",
              "      <td>1.0</td>\n",
              "      <td>1.0</td>\n",
              "      <td>1.0</td>\n",
              "      <td>1.0</td>\n",
              "      <td>1.0</td>\n",
              "      <td>1.0</td>\n",
              "      <td>0.0</td>\n",
              "      <td>0.0</td>\n",
              "      <td>1.0</td>\n",
              "      <td>1</td>\n",
              "    </tr>\n",
              "    <tr>\n",
              "      <th>4</th>\n",
              "      <td>73482</td>\n",
              "      <td>Henrique Fontana</td>\n",
              "      <td>PT</td>\n",
              "      <td>0.0</td>\n",
              "      <td>0.0</td>\n",
              "      <td>0.0</td>\n",
              "      <td>1.0</td>\n",
              "      <td>1.0</td>\n",
              "      <td>1.0</td>\n",
              "      <td>1.0</td>\n",
              "      <td>0.0</td>\n",
              "      <td>1.0</td>\n",
              "      <td>0</td>\n",
              "    </tr>\n",
              "  </tbody>\n",
              "</table>\n",
              "</div>"
            ],
            "text/plain": [
              "idVotacao  deputado_id      deputado_nome  ... 2166595-59  Cluster\n",
              "0                62881       Danilo Forte  ...        1.0        0\n",
              "1                66828      Fausto Pinato  ...        1.0        0\n",
              "2                73433  Arlindo Chinaglia  ...        1.0        0\n",
              "3                73466       Rubens Bueno  ...        1.0        1\n",
              "4                73482   Henrique Fontana  ...        1.0        0\n",
              "\n",
              "[5 rows x 13 columns]"
            ]
          },
          "metadata": {},
          "execution_count": 66
        }
      ],
      "source": [
        "x1.head()"
      ]
    },
    {
      "cell_type": "code",
      "execution_count": null,
      "metadata": {
        "id": "5Gjvml1342AR"
      },
      "outputs": [],
      "source": [
        "cluster = x1.groupby(['deputado_siglaPartido','Cluster']).size().reset_index(name='counts')\n"
      ]
    },
    {
      "cell_type": "code",
      "execution_count": null,
      "metadata": {
        "id": "4Dql06yO42AR",
        "outputId": "cac440de-f243-4126-b32f-0d14bb420e71",
        "colab": {
          "base_uri": "https://localhost:8080/",
          "height": 206
        }
      },
      "outputs": [
        {
          "output_type": "execute_result",
          "data": {
            "text/html": [
              "<div>\n",
              "<style scoped>\n",
              "    .dataframe tbody tr th:only-of-type {\n",
              "        vertical-align: middle;\n",
              "    }\n",
              "\n",
              "    .dataframe tbody tr th {\n",
              "        vertical-align: top;\n",
              "    }\n",
              "\n",
              "    .dataframe thead th {\n",
              "        text-align: right;\n",
              "    }\n",
              "</style>\n",
              "<table border=\"1\" class=\"dataframe\">\n",
              "  <thead>\n",
              "    <tr style=\"text-align: right;\">\n",
              "      <th></th>\n",
              "      <th>deputado_siglaPartido</th>\n",
              "      <th>Cluster</th>\n",
              "      <th>counts</th>\n",
              "    </tr>\n",
              "  </thead>\n",
              "  <tbody>\n",
              "    <tr>\n",
              "      <th>0</th>\n",
              "      <td>AVANTE</td>\n",
              "      <td>0</td>\n",
              "      <td>1</td>\n",
              "    </tr>\n",
              "    <tr>\n",
              "      <th>1</th>\n",
              "      <td>AVANTE</td>\n",
              "      <td>1</td>\n",
              "      <td>1</td>\n",
              "    </tr>\n",
              "    <tr>\n",
              "      <th>2</th>\n",
              "      <td>AVANTE</td>\n",
              "      <td>2</td>\n",
              "      <td>1</td>\n",
              "    </tr>\n",
              "    <tr>\n",
              "      <th>3</th>\n",
              "      <td>CIDADANIA</td>\n",
              "      <td>0</td>\n",
              "      <td>1</td>\n",
              "    </tr>\n",
              "    <tr>\n",
              "      <th>4</th>\n",
              "      <td>CIDADANIA</td>\n",
              "      <td>1</td>\n",
              "      <td>4</td>\n",
              "    </tr>\n",
              "  </tbody>\n",
              "</table>\n",
              "</div>"
            ],
            "text/plain": [
              "  deputado_siglaPartido  Cluster  counts\n",
              "0                AVANTE        0       1\n",
              "1                AVANTE        1       1\n",
              "2                AVANTE        2       1\n",
              "3             CIDADANIA        0       1\n",
              "4             CIDADANIA        1       4"
            ]
          },
          "metadata": {},
          "execution_count": 68
        }
      ],
      "source": [
        "cluster.head()"
      ]
    },
    {
      "cell_type": "code",
      "execution_count": null,
      "metadata": {
        "id": "4UeM_svW42AS"
      },
      "outputs": [],
      "source": [
        "cluster_final = cluster.pivot_table('counts', ['deputado_siglaPartido'], 'Cluster')\n"
      ]
    },
    {
      "cell_type": "code",
      "execution_count": null,
      "metadata": {
        "id": "ipr4phXY42AS",
        "outputId": "f1f4de1c-e3a6-4b1e-adba-9c48e461662d",
        "colab": {
          "base_uri": "https://localhost:8080/",
          "height": 770
        }
      },
      "outputs": [
        {
          "output_type": "execute_result",
          "data": {
            "text/html": [
              "<div>\n",
              "<style scoped>\n",
              "    .dataframe tbody tr th:only-of-type {\n",
              "        vertical-align: middle;\n",
              "    }\n",
              "\n",
              "    .dataframe tbody tr th {\n",
              "        vertical-align: top;\n",
              "    }\n",
              "\n",
              "    .dataframe thead th {\n",
              "        text-align: right;\n",
              "    }\n",
              "</style>\n",
              "<table border=\"1\" class=\"dataframe\">\n",
              "  <thead>\n",
              "    <tr style=\"text-align: right;\">\n",
              "      <th>Cluster</th>\n",
              "      <th>0</th>\n",
              "      <th>1</th>\n",
              "      <th>2</th>\n",
              "    </tr>\n",
              "    <tr>\n",
              "      <th>deputado_siglaPartido</th>\n",
              "      <th></th>\n",
              "      <th></th>\n",
              "      <th></th>\n",
              "    </tr>\n",
              "  </thead>\n",
              "  <tbody>\n",
              "    <tr>\n",
              "      <th>AVANTE</th>\n",
              "      <td>1.0</td>\n",
              "      <td>1.0</td>\n",
              "      <td>1.0</td>\n",
              "    </tr>\n",
              "    <tr>\n",
              "      <th>CIDADANIA</th>\n",
              "      <td>1.0</td>\n",
              "      <td>4.0</td>\n",
              "      <td>1.0</td>\n",
              "    </tr>\n",
              "    <tr>\n",
              "      <th>DEM</th>\n",
              "      <td>2.0</td>\n",
              "      <td>4.0</td>\n",
              "      <td>NaN</td>\n",
              "    </tr>\n",
              "    <tr>\n",
              "      <th>MDB</th>\n",
              "      <td>4.0</td>\n",
              "      <td>5.0</td>\n",
              "      <td>NaN</td>\n",
              "    </tr>\n",
              "    <tr>\n",
              "      <th>NOVO</th>\n",
              "      <td>NaN</td>\n",
              "      <td>NaN</td>\n",
              "      <td>8.0</td>\n",
              "    </tr>\n",
              "    <tr>\n",
              "      <th>PCdoB</th>\n",
              "      <td>5.0</td>\n",
              "      <td>NaN</td>\n",
              "      <td>NaN</td>\n",
              "    </tr>\n",
              "    <tr>\n",
              "      <th>PDT</th>\n",
              "      <td>NaN</td>\n",
              "      <td>2.0</td>\n",
              "      <td>5.0</td>\n",
              "    </tr>\n",
              "    <tr>\n",
              "      <th>PL</th>\n",
              "      <td>9.0</td>\n",
              "      <td>2.0</td>\n",
              "      <td>NaN</td>\n",
              "    </tr>\n",
              "    <tr>\n",
              "      <th>PODE</th>\n",
              "      <td>2.0</td>\n",
              "      <td>2.0</td>\n",
              "      <td>1.0</td>\n",
              "    </tr>\n",
              "    <tr>\n",
              "      <th>PP</th>\n",
              "      <td>6.0</td>\n",
              "      <td>2.0</td>\n",
              "      <td>NaN</td>\n",
              "    </tr>\n",
              "    <tr>\n",
              "      <th>PROS</th>\n",
              "      <td>2.0</td>\n",
              "      <td>3.0</td>\n",
              "      <td>NaN</td>\n",
              "    </tr>\n",
              "    <tr>\n",
              "      <th>PSB</th>\n",
              "      <td>3.0</td>\n",
              "      <td>11.0</td>\n",
              "      <td>2.0</td>\n",
              "    </tr>\n",
              "    <tr>\n",
              "      <th>PSC</th>\n",
              "      <td>5.0</td>\n",
              "      <td>1.0</td>\n",
              "      <td>NaN</td>\n",
              "    </tr>\n",
              "    <tr>\n",
              "      <th>PSD</th>\n",
              "      <td>8.0</td>\n",
              "      <td>5.0</td>\n",
              "      <td>NaN</td>\n",
              "    </tr>\n",
              "    <tr>\n",
              "      <th>PSDB</th>\n",
              "      <td>4.0</td>\n",
              "      <td>7.0</td>\n",
              "      <td>2.0</td>\n",
              "    </tr>\n",
              "    <tr>\n",
              "      <th>PSL</th>\n",
              "      <td>22.0</td>\n",
              "      <td>10.0</td>\n",
              "      <td>3.0</td>\n",
              "    </tr>\n",
              "    <tr>\n",
              "      <th>PSOL</th>\n",
              "      <td>NaN</td>\n",
              "      <td>NaN</td>\n",
              "      <td>3.0</td>\n",
              "    </tr>\n",
              "    <tr>\n",
              "      <th>PT</th>\n",
              "      <td>32.0</td>\n",
              "      <td>NaN</td>\n",
              "      <td>NaN</td>\n",
              "    </tr>\n",
              "    <tr>\n",
              "      <th>PTB</th>\n",
              "      <td>1.0</td>\n",
              "      <td>NaN</td>\n",
              "      <td>NaN</td>\n",
              "    </tr>\n",
              "    <tr>\n",
              "      <th>PV</th>\n",
              "      <td>NaN</td>\n",
              "      <td>1.0</td>\n",
              "      <td>NaN</td>\n",
              "    </tr>\n",
              "    <tr>\n",
              "      <th>REPUBLICANOS</th>\n",
              "      <td>13.0</td>\n",
              "      <td>1.0</td>\n",
              "      <td>NaN</td>\n",
              "    </tr>\n",
              "    <tr>\n",
              "      <th>SOLIDARIEDADE</th>\n",
              "      <td>3.0</td>\n",
              "      <td>1.0</td>\n",
              "      <td>NaN</td>\n",
              "    </tr>\n",
              "  </tbody>\n",
              "</table>\n",
              "</div>"
            ],
            "text/plain": [
              "Cluster                   0     1    2\n",
              "deputado_siglaPartido                 \n",
              "AVANTE                  1.0   1.0  1.0\n",
              "CIDADANIA               1.0   4.0  1.0\n",
              "DEM                     2.0   4.0  NaN\n",
              "MDB                     4.0   5.0  NaN\n",
              "NOVO                    NaN   NaN  8.0\n",
              "PCdoB                   5.0   NaN  NaN\n",
              "PDT                     NaN   2.0  5.0\n",
              "PL                      9.0   2.0  NaN\n",
              "PODE                    2.0   2.0  1.0\n",
              "PP                      6.0   2.0  NaN\n",
              "PROS                    2.0   3.0  NaN\n",
              "PSB                     3.0  11.0  2.0\n",
              "PSC                     5.0   1.0  NaN\n",
              "PSD                     8.0   5.0  NaN\n",
              "PSDB                    4.0   7.0  2.0\n",
              "PSL                    22.0  10.0  3.0\n",
              "PSOL                    NaN   NaN  3.0\n",
              "PT                     32.0   NaN  NaN\n",
              "PTB                     1.0   NaN  NaN\n",
              "PV                      NaN   1.0  NaN\n",
              "REPUBLICANOS           13.0   1.0  NaN\n",
              "SOLIDARIEDADE           3.0   1.0  NaN"
            ]
          },
          "metadata": {},
          "execution_count": 70
        }
      ],
      "source": [
        "cluster_final"
      ]
    },
    {
      "cell_type": "code",
      "execution_count": null,
      "metadata": {
        "id": "84cA2oWb42AS"
      },
      "outputs": [],
      "source": [
        "x1.to_csv(\"clusters_deputados.csv\", sep=';')\n"
      ]
    },
    {
      "cell_type": "code",
      "source": [
        "pd.read_csv(\"clusters_deputados.csv\", sep = ';')"
      ],
      "metadata": {
        "id": "aTo5AYec1OHk",
        "colab": {
          "base_uri": "https://localhost:8080/",
          "height": 530
        },
        "outputId": "7da4d4dc-7c16-414c-88dd-57d3dc228cea"
      },
      "execution_count": null,
      "outputs": [
        {
          "output_type": "execute_result",
          "data": {
            "text/html": [
              "<div>\n",
              "<style scoped>\n",
              "    .dataframe tbody tr th:only-of-type {\n",
              "        vertical-align: middle;\n",
              "    }\n",
              "\n",
              "    .dataframe tbody tr th {\n",
              "        vertical-align: top;\n",
              "    }\n",
              "\n",
              "    .dataframe thead th {\n",
              "        text-align: right;\n",
              "    }\n",
              "</style>\n",
              "<table border=\"1\" class=\"dataframe\">\n",
              "  <thead>\n",
              "    <tr style=\"text-align: right;\">\n",
              "      <th></th>\n",
              "      <th>Unnamed: 0</th>\n",
              "      <th>deputado_id</th>\n",
              "      <th>deputado_nome</th>\n",
              "      <th>deputado_siglaPartido</th>\n",
              "      <th>2293449-187</th>\n",
              "      <th>2275537-117</th>\n",
              "      <th>2275537-102</th>\n",
              "      <th>2165194-130</th>\n",
              "      <th>2210757-104</th>\n",
              "      <th>2210757-93</th>\n",
              "      <th>531331-317</th>\n",
              "      <th>531331-284</th>\n",
              "      <th>2166595-59</th>\n",
              "      <th>Cluster</th>\n",
              "    </tr>\n",
              "  </thead>\n",
              "  <tbody>\n",
              "    <tr>\n",
              "      <th>0</th>\n",
              "      <td>0</td>\n",
              "      <td>62881</td>\n",
              "      <td>Danilo Forte</td>\n",
              "      <td>PSDB</td>\n",
              "      <td>0.0</td>\n",
              "      <td>0.0</td>\n",
              "      <td>0.0</td>\n",
              "      <td>1.0</td>\n",
              "      <td>1.0</td>\n",
              "      <td>1.0</td>\n",
              "      <td>1.0</td>\n",
              "      <td>0.0</td>\n",
              "      <td>1.0</td>\n",
              "      <td>0</td>\n",
              "    </tr>\n",
              "    <tr>\n",
              "      <th>1</th>\n",
              "      <td>1</td>\n",
              "      <td>66828</td>\n",
              "      <td>Fausto Pinato</td>\n",
              "      <td>PP</td>\n",
              "      <td>1.0</td>\n",
              "      <td>0.0</td>\n",
              "      <td>0.0</td>\n",
              "      <td>1.0</td>\n",
              "      <td>1.0</td>\n",
              "      <td>1.0</td>\n",
              "      <td>1.0</td>\n",
              "      <td>0.0</td>\n",
              "      <td>1.0</td>\n",
              "      <td>0</td>\n",
              "    </tr>\n",
              "    <tr>\n",
              "      <th>2</th>\n",
              "      <td>2</td>\n",
              "      <td>73433</td>\n",
              "      <td>Arlindo Chinaglia</td>\n",
              "      <td>PT</td>\n",
              "      <td>0.0</td>\n",
              "      <td>0.0</td>\n",
              "      <td>0.0</td>\n",
              "      <td>1.0</td>\n",
              "      <td>1.0</td>\n",
              "      <td>1.0</td>\n",
              "      <td>1.0</td>\n",
              "      <td>0.0</td>\n",
              "      <td>1.0</td>\n",
              "      <td>0</td>\n",
              "    </tr>\n",
              "    <tr>\n",
              "      <th>3</th>\n",
              "      <td>3</td>\n",
              "      <td>73466</td>\n",
              "      <td>Rubens Bueno</td>\n",
              "      <td>CIDADANIA</td>\n",
              "      <td>1.0</td>\n",
              "      <td>1.0</td>\n",
              "      <td>1.0</td>\n",
              "      <td>1.0</td>\n",
              "      <td>1.0</td>\n",
              "      <td>1.0</td>\n",
              "      <td>0.0</td>\n",
              "      <td>0.0</td>\n",
              "      <td>1.0</td>\n",
              "      <td>1</td>\n",
              "    </tr>\n",
              "    <tr>\n",
              "      <th>4</th>\n",
              "      <td>4</td>\n",
              "      <td>73482</td>\n",
              "      <td>Henrique Fontana</td>\n",
              "      <td>PT</td>\n",
              "      <td>0.0</td>\n",
              "      <td>0.0</td>\n",
              "      <td>0.0</td>\n",
              "      <td>1.0</td>\n",
              "      <td>1.0</td>\n",
              "      <td>1.0</td>\n",
              "      <td>1.0</td>\n",
              "      <td>0.0</td>\n",
              "      <td>1.0</td>\n",
              "      <td>0</td>\n",
              "    </tr>\n",
              "    <tr>\n",
              "      <th>...</th>\n",
              "      <td>...</td>\n",
              "      <td>...</td>\n",
              "      <td>...</td>\n",
              "      <td>...</td>\n",
              "      <td>...</td>\n",
              "      <td>...</td>\n",
              "      <td>...</td>\n",
              "      <td>...</td>\n",
              "      <td>...</td>\n",
              "      <td>...</td>\n",
              "      <td>...</td>\n",
              "      <td>...</td>\n",
              "      <td>...</td>\n",
              "      <td>...</td>\n",
              "    </tr>\n",
              "    <tr>\n",
              "      <th>206</th>\n",
              "      <td>206</td>\n",
              "      <td>213762</td>\n",
              "      <td>Carla Dickson</td>\n",
              "      <td>PROS</td>\n",
              "      <td>1.0</td>\n",
              "      <td>1.0</td>\n",
              "      <td>0.0</td>\n",
              "      <td>1.0</td>\n",
              "      <td>1.0</td>\n",
              "      <td>1.0</td>\n",
              "      <td>1.0</td>\n",
              "      <td>0.0</td>\n",
              "      <td>1.0</td>\n",
              "      <td>0</td>\n",
              "    </tr>\n",
              "    <tr>\n",
              "      <th>207</th>\n",
              "      <td>207</td>\n",
              "      <td>215042</td>\n",
              "      <td>Ricardo da Karol</td>\n",
              "      <td>PSC</td>\n",
              "      <td>1.0</td>\n",
              "      <td>0.0</td>\n",
              "      <td>0.0</td>\n",
              "      <td>1.0</td>\n",
              "      <td>1.0</td>\n",
              "      <td>1.0</td>\n",
              "      <td>1.0</td>\n",
              "      <td>0.0</td>\n",
              "      <td>1.0</td>\n",
              "      <td>0</td>\n",
              "    </tr>\n",
              "    <tr>\n",
              "      <th>208</th>\n",
              "      <td>208</td>\n",
              "      <td>215043</td>\n",
              "      <td>Josivaldo JP</td>\n",
              "      <td>PODE</td>\n",
              "      <td>1.0</td>\n",
              "      <td>0.0</td>\n",
              "      <td>1.0</td>\n",
              "      <td>1.0</td>\n",
              "      <td>1.0</td>\n",
              "      <td>1.0</td>\n",
              "      <td>1.0</td>\n",
              "      <td>1.0</td>\n",
              "      <td>1.0</td>\n",
              "      <td>1</td>\n",
              "    </tr>\n",
              "    <tr>\n",
              "      <th>209</th>\n",
              "      <td>209</td>\n",
              "      <td>215044</td>\n",
              "      <td>Vivi Reis</td>\n",
              "      <td>PSOL</td>\n",
              "      <td>0.0</td>\n",
              "      <td>1.0</td>\n",
              "      <td>1.0</td>\n",
              "      <td>1.0</td>\n",
              "      <td>1.0</td>\n",
              "      <td>1.0</td>\n",
              "      <td>0.0</td>\n",
              "      <td>0.0</td>\n",
              "      <td>0.0</td>\n",
              "      <td>2</td>\n",
              "    </tr>\n",
              "    <tr>\n",
              "      <th>210</th>\n",
              "      <td>210</td>\n",
              "      <td>215045</td>\n",
              "      <td>Pedro Augusto Palareti</td>\n",
              "      <td>PSD</td>\n",
              "      <td>1.0</td>\n",
              "      <td>0.0</td>\n",
              "      <td>0.0</td>\n",
              "      <td>1.0</td>\n",
              "      <td>1.0</td>\n",
              "      <td>1.0</td>\n",
              "      <td>1.0</td>\n",
              "      <td>0.0</td>\n",
              "      <td>1.0</td>\n",
              "      <td>0</td>\n",
              "    </tr>\n",
              "  </tbody>\n",
              "</table>\n",
              "<p>211 rows × 14 columns</p>\n",
              "</div>"
            ],
            "text/plain": [
              "     Unnamed: 0  deputado_id  ... 2166595-59 Cluster\n",
              "0             0        62881  ...        1.0       0\n",
              "1             1        66828  ...        1.0       0\n",
              "2             2        73433  ...        1.0       0\n",
              "3             3        73466  ...        1.0       1\n",
              "4             4        73482  ...        1.0       0\n",
              "..          ...          ...  ...        ...     ...\n",
              "206         206       213762  ...        1.0       0\n",
              "207         207       215042  ...        1.0       0\n",
              "208         208       215043  ...        1.0       1\n",
              "209         209       215044  ...        0.0       2\n",
              "210         210       215045  ...        1.0       0\n",
              "\n",
              "[211 rows x 14 columns]"
            ]
          },
          "metadata": {},
          "execution_count": 78
        }
      ]
    }
  ],
  "metadata": {
    "kernelspec": {
      "display_name": "Python 3",
      "language": "python",
      "name": "python3"
    },
    "language_info": {
      "codemirror_mode": {
        "name": "ipython",
        "version": 3
      },
      "file_extension": ".py",
      "mimetype": "text/x-python",
      "name": "python",
      "nbconvert_exporter": "python",
      "pygments_lexer": "ipython3",
      "version": "3.8.5"
    },
    "colab": {
      "name": "cluter_pecs.ipynb",
      "provenance": [],
      "collapsed_sections": []
    }
  },
  "nbformat": 4,
  "nbformat_minor": 0
}